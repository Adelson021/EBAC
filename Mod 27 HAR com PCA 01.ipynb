{
 "cells": [
  {
   "cell_type": "markdown",
   "metadata": {},
   "source": [
    "![Cabec%CC%A7alho_notebook.png](cabecalho_notebook.png)"
   ]
  },
  {
   "cell_type": "markdown",
   "metadata": {},
   "source": [
    "# PCA - Tarefa 01: *HAR* com PCA\n",
    "\n",
    "Vamos trabalhar com a base da demonstração feita em aula, mas vamos explorar um pouco melhor como é o desempenho da árvore variando o número de componentes principais."
   ]
  },
  {
   "cell_type": "code",
   "execution_count": 26,
   "metadata": {
    "tags": []
   },
   "outputs": [
    {
     "name": "stdout",
     "output_type": "stream",
     "text": [
      "Detectadas colunas duplicadas. Renomeando-as para serem únicas.\n",
      "Shape de X_train: (7352, 561)\n",
      "Shape de X_test: (2947, 561)\n",
      "Nomes das colunas únicas? Sim\n"
     ]
    }
   ],
   "source": [
    "import pandas as pd\n",
    "import time\n",
    "from sklearn.tree import DecisionTreeClassifier\n",
    "from sklearn.decomposition import PCA\n",
    "from sklearn.metrics import accuracy_score\n",
    "from sklearn.model_selection import cross_val_score, GridSearchCV\n",
    "from sklearn.preprocessing import StandardScaler\n",
    "\n",
    "# Caminhos dos arquivos\n",
    "filename_features = r\"C:\\Users\\Joel\\Downloads\\Data Scientist\\Mod 27\\M27 E M29\\M27 E M29\\features.txt\"\n",
    "filename_labels = r\"C:\\Users\\Joel\\Downloads\\Data Scientist\\Mod 27\\M27 E M29\\M27 E M29\\activity_labels.txt\"\n",
    "\n",
    "filename_subtrain = r\"C:\\Users\\Joel\\Downloads\\Data Scientist\\Mod 27\\M27 E M29\\M27 E M29\\train\\subject_train.txt\"\n",
    "filename_xtrain = r\"C:\\Users\\Joel\\Downloads\\Data Scientist\\Mod 27\\M27 E M29\\M27 E M29\\train\\X_train.txt\"\n",
    "filename_ytrain = r\"C:\\Users\\Joel\\Downloads\\Data Scientist\\Mod 27\\M27 E M29\\M27 E M29\\train\\y_train.txt\"\n",
    "\n",
    "filename_subtest = r\"C:\\Users\\Joel\\Downloads\\Data Scientist\\Mod 27\\M27 E M29\\M27 E M29\\test\\subject_test.txt\"\n",
    "filename_xtest = r\"C:\\Users\\Joel\\Downloads\\Data Scientist\\Mod 27\\M27 E M29\\M27 E M29\\test\\X_test.txt\"\n",
    "filename_ytest = r\"C:\\Users\\Joel\\Downloads\\Data Scientist\\Mod 27\\M27 E M29\\M27 E M29\\test\\y_test.txt\"\n",
    "\n",
    "# Carregando os dados\n",
    "features = pd.read_csv(filename_features, header=None, delim_whitespace=True, names=['index', 'nome_var'])\n",
    "features = features['nome_var']  # Seleciona apenas o nome das variáveis\n",
    "\n",
    "# Adicionando um índice único para duplicatas\n",
    "if features.duplicated().any():\n",
    "    print(\"Detectadas colunas duplicadas. Renomeando-as para serem únicas.\")\n",
    "    features = features + \"_\" + features.groupby(features).cumcount().astype(str)\n",
    "\n",
    "# Carregando os rótulos das atividades\n",
    "labels = pd.read_csv(filename_labels, delim_whitespace=True, header=None, names=['cod_label', 'label'])\n",
    "\n",
    "# Dados de treino\n",
    "subject_train = pd.read_csv(filename_subtrain, header=None, names=['subject_id']).squeeze()\n",
    "X_train = pd.read_csv(filename_xtrain, delim_whitespace=True, header=None, names=features.tolist())\n",
    "y_train = pd.read_csv(filename_ytrain, header=None, names=['cod_label']).squeeze()\n",
    "\n",
    "# Dados de teste\n",
    "subject_test = pd.read_csv(filename_subtest, header=None, names=['subject_id']).squeeze()\n",
    "X_test = pd.read_csv(filename_xtest, delim_whitespace=True, header=None, names=features.tolist())\n",
    "y_test = pd.read_csv(filename_ytest, header=None, names=['cod_label']).squeeze()\n",
    "\n",
    "# Verificando os dados\n",
    "print(f\"Shape de X_train: {X_train.shape}\")\n",
    "print(f\"Shape de X_test: {X_test.shape}\")\n",
    "print(f\"Nomes das colunas únicas? {'Sim' if X_train.columns.is_unique else 'Não'}\")"
   ]
  },
  {
   "cell_type": "markdown",
   "metadata": {},
   "source": [
    "## Árvore de decisão\n",
    "\n",
    "Rode uma árvore de decisão com todas as variáveis, utilizando o ```ccp_alpha=0.001```. Avalie a acurácia nas bases de treinamento e teste. Avalie o tempo de processamento."
   ]
  },
  {
   "cell_type": "code",
   "execution_count": 22,
   "metadata": {
    "tags": []
   },
   "outputs": [
    {
     "name": "stdout",
     "output_type": "stream",
     "text": [
      "Acurácia na base de treinamento: 0.9758\n",
      "Acurácia na base de teste: 0.8799\n",
      "Tempo de processamento: 4.82 segundos\n",
      "CPU times: total: 4.83 s\n",
      "Wall time: 4.82 s\n"
     ]
    }
   ],
   "source": [
    "%%time\n",
    "\n",
    "# Criando e avaliando o modelo\n",
    "start_time = time.time()\n",
    "\n",
    "clf = DecisionTreeClassifier(ccp_alpha=0.001, random_state=42)\n",
    "clf.fit(X_train, y_train)\n",
    "\n",
    "train_accuracy = accuracy_score(y_train, clf.predict(X_train))\n",
    "test_accuracy = accuracy_score(y_test, clf.predict(X_test))\n",
    "\n",
    "end_time = time.time()\n",
    "\n",
    "# Resultados\n",
    "print(f\"Acurácia na base de treinamento: {train_accuracy:.4f}\")\n",
    "print(f\"Acurácia na base de teste: {test_accuracy:.4f}\")\n",
    "print(f\"Tempo de processamento: {end_time - start_time:.2f} segundos\")\n"
   ]
  },
  {
   "cell_type": "markdown",
   "metadata": {},
   "source": [
    "## Árvore com PCA\n",
    "\n",
    "Faça uma análise de componemtes principais das variáveis originais. Utilize apenas uma componente. Faça uma árvore de decisão com esta componente como variável explicativa.\n",
    "\n",
    "- Avalie a acurácia nas bases de treinamento e teste\n",
    "- Avalie o tempo de processamento"
   ]
  },
  {
   "cell_type": "code",
   "execution_count": 28,
   "metadata": {
    "tags": []
   },
   "outputs": [
    {
     "name": "stdout",
     "output_type": "stream",
     "text": [
      "Acurácia na base de treinamento: 0.4771\n",
      "Acurácia na base de teste: 0.4316\n",
      "Tempo de processamento: 0.05 segundos\n",
      "CPU times: total: 609 ms\n",
      "Wall time: 378 ms\n"
     ]
    }
   ],
   "source": [
    "%%time\n",
    "# Normalização das variáveis\n",
    "scaler = StandardScaler()\n",
    "X_train_scaled = scaler.fit_transform(X_train)\n",
    "X_test_scaled = scaler.transform(X_test)\n",
    "\n",
    "# PCA (somente 1 componente)\n",
    "pca = PCA(n_components=1)\n",
    "X_train_pca = pca.fit_transform(X_train_scaled)\n",
    "X_test_pca = pca.transform(X_test_scaled)\n",
    "\n",
    "# Criando e avaliando o modelo\n",
    "start_time = time.time()\n",
    "\n",
    "clf = DecisionTreeClassifier(ccp_alpha=0.001, random_state=42)\n",
    "clf.fit(X_train_pca, y_train)\n",
    "\n",
    "train_accuracy = accuracy_score(y_train, clf.predict(X_train_pca))\n",
    "test_accuracy = accuracy_score(y_test, clf.predict(X_test_pca))\n",
    "\n",
    "end_time = time.time()\n",
    "\n",
    "# Resultados\n",
    "print(f\"Acurácia na base de treinamento: {train_accuracy:.4f}\")\n",
    "print(f\"Acurácia na base de teste: {test_accuracy:.4f}\")\n",
    "print(f\"Tempo de processamento: {end_time - start_time:.2f} segundos\")"
   ]
  },
  {
   "cell_type": "markdown",
   "metadata": {},
   "source": [
    "## Testando o número de componentes\n",
    "\n",
    "Com base no código acima, teste a árvore de classificação com pelo menos as seguintes possibilidades de quantidades de componentes: ```[1, 2, 5, 10, 50]```. Avalie para cada uma delas:\n",
    "\n",
    "- Acurácia nas bases de treino e teste\n",
    "- Tempo de processamento\n"
   ]
  },
  {
   "cell_type": "code",
   "execution_count": 30,
   "metadata": {
    "tags": []
   },
   "outputs": [
    {
     "name": "stdout",
     "output_type": "stream",
     "text": [
      "Testando com 1 componentes...\n",
      "Testando com 2 componentes...\n",
      "Testando com 5 componentes...\n",
      "Testando com 10 componentes...\n",
      "Testando com 50 componentes...\n",
      "   n_components  train_accuracy  test_accuracy  processing_time\n",
      "0             1        0.477149       0.431625         0.052858\n",
      "1             2        0.590180       0.546318         0.054852\n",
      "2             5        0.832699       0.770614         0.069809\n",
      "3            10        0.858678       0.767221         0.128737\n",
      "4            50        0.888194       0.775365         0.577270\n",
      "CPU times: total: 3.61 s\n",
      "Wall time: 1.26 s\n"
     ]
    }
   ],
   "source": [
    "%%time\n",
    "# Lista de quantidades de componentes principais a serem testadas\n",
    "components_list = [1, 2, 5, 10, 50]\n",
    "\n",
    "# Avaliação do modelo para cada quantidade de componentes\n",
    "results = []\n",
    "\n",
    "for n_components in components_list:\n",
    "    print(f\"Testando com {n_components} componentes...\")\n",
    "    \n",
    "    # PCA com o número especificado de componentes\n",
    "    pca = PCA(n_components=n_components)\n",
    "    X_train_pca = pca.fit_transform(X_train_scaled)\n",
    "    X_test_pca = pca.transform(X_test_scaled)\n",
    "    \n",
    "    # Tempo de treinamento e avaliação\n",
    "    start_time = time.time()\n",
    "    \n",
    "    # Criando e treinando a árvore de decisão\n",
    "    clf = DecisionTreeClassifier(ccp_alpha=0.001, random_state=42)\n",
    "    clf.fit(X_train_pca, y_train)\n",
    "    \n",
    "    train_accuracy = accuracy_score(y_train, clf.predict(X_train_pca))\n",
    "    test_accuracy = accuracy_score(y_test, clf.predict(X_test_pca))\n",
    "    \n",
    "    end_time = time.time()\n",
    "    \n",
    "    # Salvando os resultados\n",
    "    results.append({\n",
    "        \"n_components\": n_components,\n",
    "        \"train_accuracy\": train_accuracy,\n",
    "        \"test_accuracy\": test_accuracy,\n",
    "        \"processing_time\": end_time - start_time\n",
    "    })\n",
    "\n",
    "# Exibindo os resultados\n",
    "results_df = pd.DataFrame(results)\n",
    "print(results_df)"
   ]
  },
  {
   "cell_type": "markdown",
   "metadata": {},
   "source": [
    "## Conclua\n",
    "\n",
    "- O que aconteceu com a acurácia?\n",
    "- O que aconteceu com o tempo de processamento?"
   ]
  },
  {
   "cell_type": "markdown",
   "metadata": {
    "tags": []
   },
   "source": [
    "<span style=\"color:red;\">Quanto maior o número de componentes é melhor a acurácia e o seu tempo de processamento é maior também.</span>"
   ]
  },
  {
   "cell_type": "code",
   "execution_count": null,
   "metadata": {},
   "outputs": [],
   "source": []
  }
 ],
 "metadata": {
  "kernelspec": {
   "display_name": "Python 3 (ipykernel)",
   "language": "python",
   "name": "python3"
  },
  "language_info": {
   "codemirror_mode": {
    "name": "ipython",
    "version": 3
   },
   "file_extension": ".py",
   "mimetype": "text/x-python",
   "name": "python",
   "nbconvert_exporter": "python",
   "pygments_lexer": "ipython3",
   "version": "3.11.7"
  },
  "toc": {
   "base_numbering": 1,
   "nav_menu": {},
   "number_sections": true,
   "sideBar": true,
   "skip_h1_title": true,
   "title_cell": "Índice",
   "title_sidebar": "Conteúdo",
   "toc_cell": false,
   "toc_position": {},
   "toc_section_display": true,
   "toc_window_display": false
  },
  "varInspector": {
   "cols": {
    "lenName": 16,
    "lenType": 16,
    "lenVar": 40
   },
   "kernels_config": {
    "python": {
     "delete_cmd_postfix": "",
     "delete_cmd_prefix": "del ",
     "library": "var_list.py",
     "varRefreshCmd": "print(var_dic_list())"
    },
    "r": {
     "delete_cmd_postfix": ") ",
     "delete_cmd_prefix": "rm(",
     "library": "var_list.r",
     "varRefreshCmd": "cat(var_dic_list()) "
    }
   },
   "types_to_exclude": [
    "module",
    "function",
    "builtin_function_or_method",
    "instance",
    "_Feature"
   ],
   "window_display": false
  }
 },
 "nbformat": 4,
 "nbformat_minor": 4
}
