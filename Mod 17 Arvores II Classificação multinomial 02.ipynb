{
 "cells": [
  {
   "cell_type": "markdown",
   "metadata": {},
   "source": [
    "# Árvores II - Tarefa 2"
   ]
  },
  {
   "cell_type": "markdown",
   "metadata": {},
   "source": [
    "### 1. Carregar as bases\n",
    "\n",
    "Vamos carregar as bases lidas na tarefa passada. Se você salvou essas bases em arquivo texto, basta fazer a leitura com o comando ```pd.read_csv``` das seguintes bases:\n",
    "\n",
    "- X_train\n",
    "- Y_train\n",
    "- X_test\n",
    "- Y_test\n",
    "\n",
    "Não se esqueça de considerar a leitura dos índices dos arquivos no ```read_csv()```!"
   ]
  },
  {
   "cell_type": "code",
   "execution_count": 49,
   "metadata": {
    "tags": []
   },
   "outputs": [],
   "source": [
    "import pandas as pd\n",
    "import seaborn as sns\n",
    "import matplotlib.pyplot as plt\n",
    "import numpy as np\n",
    "import os\n",
    "from sklearn.tree import DecisionTreeClassifier\n",
    "from sklearn.model_selection import train_test_split\n",
    "from sklearn.metrics import accuracy_score, confusion_matrix, ConfusionMatrixDisplay, classification_report\n",
    "from sklearn.tree import plot_tree"
   ]
  },
  {
   "cell_type": "code",
   "execution_count": 7,
   "metadata": {
    "tags": []
   },
   "outputs": [
    {
     "name": "stdout",
     "output_type": "stream",
     "text": [
      "X_train:\n",
      "         tBodyAcc-mean()-X  tBodyAcc-mean()-Y  tBodyAcc-mean()-Z\n",
      "subject                                                         \n",
      "1                 0.288585          -0.020294          -0.132905\n",
      "1                 0.278419          -0.016411          -0.123520\n",
      "1                 0.279653          -0.019467          -0.113462\n",
      "1                 0.279174          -0.026201          -0.123283\n",
      "1                 0.276629          -0.016570          -0.115362\n",
      "\n",
      "y_train:\n",
      "Empty DataFrame\n",
      "Columns: []\n",
      "Index: [5, 5, 5, 5, 5]\n",
      "\n",
      "X_test:\n",
      "         tBodyAcc-mean()-X  tBodyAcc-mean()-Y  tBodyAcc-mean()-Z\n",
      "subject                                                         \n",
      "2                 0.257178          -0.023285          -0.014654\n",
      "2                 0.286027          -0.013163          -0.119083\n",
      "2                 0.275485          -0.026050          -0.118152\n",
      "2                 0.270298          -0.032614          -0.117520\n",
      "2                 0.274833          -0.027848          -0.129527\n",
      "\n",
      "y_test:\n",
      "Empty DataFrame\n",
      "Columns: []\n",
      "Index: [5, 5, 5, 5, 5]\n"
     ]
    }
   ],
   "source": [
    "# Carregar as bases de dados\n",
    "X_train = pd.read_csv(r'C:\\Users\\Joel\\Downloads\\Data Scientist\\Mod 17\\UCI HAR Dataset\\X_train_selected.csv', index_col=0)\n",
    "y_train = pd.read_csv(r'C:\\Users\\Joel\\Downloads\\Data Scientist\\Mod 17\\UCI HAR Dataset\\UCI HAR Dataset\\train\\y_train.txt', header=None, index_col=0)\n",
    "X_test = pd.read_csv(r'C:\\Users\\Joel\\Downloads\\Data Scientist\\Mod 17\\UCI HAR Dataset\\X_test_selected.csv', index_col=0)\n",
    "y_test = pd.read_csv(r'C:\\Users\\Joel\\Downloads\\Data Scientist\\Mod 17\\UCI HAR Dataset\\UCI HAR Dataset\\test\\y_test.txt', header=None, index_col=0)\n",
    "\n",
    "# Exibir as primeiras linhas para verificar o carregamento\n",
    "print(\"X_train:\")\n",
    "print(X_train.head())\n",
    "print(\"\\ny_train:\")\n",
    "print(y_train.head())\n",
    "print(\"\\nX_test:\")\n",
    "print(X_test.head())\n",
    "print(\"\\ny_test:\")\n",
    "print(y_test.head())"
   ]
  },
  {
   "cell_type": "markdown",
   "metadata": {},
   "source": [
    "### 2. Divisão da base em Treino, Validação e Teste\n",
    "\n",
    "A base já se encontra dividida em Treino e Validação. O que vamos fazer então é extrair uma base de Validação da base de Treino.\n",
    "\n",
    "Extraia 25% da base de treino como base de validação."
   ]
  },
  {
   "cell_type": "code",
   "execution_count": 9,
   "metadata": {
    "tags": []
   },
   "outputs": [
    {
     "name": "stdout",
     "output_type": "stream",
     "text": [
      "Tamanho do conjunto de treino: 5514\n",
      "Tamanho do conjunto de validação: 1838\n"
     ]
    }
   ],
   "source": [
    "# Dividir a base de treino em treino e validação (75% treino, 25% validação)\n",
    "X_train_split, X_val, y_train_split, y_val = train_test_split(X_train, y_train, test_size=0.25, random_state=42)\n",
    "\n",
    "# Exibir as formas dos novos conjuntos\n",
    "print(f'Tamanho do conjunto de treino: {X_train_split.shape[0]}')\n",
    "print(f'Tamanho do conjunto de validação: {X_val.shape[0]}')"
   ]
  },
  {
   "cell_type": "markdown",
   "metadata": {},
   "source": [
    "### 3. Melhores 3 variáveis\n",
    "\n",
    "Rode uma árvore com profundidade máxima igual a 4 para prever a atividade humana com todas as variáveis.\n",
    "Observe a importância das variáveis e considere as 3 variáveis com maior importância para os próximos passos.\n",
    "Dica: utilize o atributo ```clf.feature_importances_``` da árvore treinada."
   ]
  },
  {
   "cell_type": "code",
   "execution_count": 11,
   "metadata": {
    "tags": []
   },
   "outputs": [
    {
     "name": "stdout",
     "output_type": "stream",
     "text": [
      "Conteúdo de y_train:\n",
      "   0\n",
      "0  5\n",
      "1  5\n",
      "2  5\n",
      "3  5\n",
      "4  5\n",
      "Tamanho de y_train: (7352, 1)\n",
      "Valores da variável 0:\n",
      "0    5\n",
      "1    5\n",
      "2    5\n",
      "3    5\n",
      "4    5\n",
      "Name: 0, dtype: int64\n"
     ]
    }
   ],
   "source": [
    "# Carregar y_train\n",
    "y_train = pd.read_csv(r'C:\\Users\\Joel\\Downloads\\Data Scientist\\Mod 17\\UCI HAR Dataset\\UCI HAR Dataset\\train\\y_train.txt', header=None)\n",
    "\n",
    "# Exibir as primeiras linhas e a estrutura do DataFrame\n",
    "print(\"Conteúdo de y_train:\")\n",
    "print(y_train.head())\n",
    "print(f\"Tamanho de y_train: {y_train.shape}\")\n",
    "\n",
    "# Verificar se há colunas disponíveis e acessar a coluna 0\n",
    "if y_train.shape[1] > 0:\n",
    "    # Acessar a variável (coluna) 0\n",
    "    variavel_0 = y_train.iloc[:, 0]\n",
    "    print(\"Valores da variável 0:\")\n",
    "    print(variavel_0.head())\n",
    "else:\n",
    "    print(\"y_train não contém colunas.\")"
   ]
  },
  {
   "cell_type": "code",
   "execution_count": 12,
   "metadata": {
    "tags": []
   },
   "outputs": [
    {
     "name": "stdout",
     "output_type": "stream",
     "text": [
      "Conteúdo de X_train:\n",
      "         tBodyAcc-mean()-X  tBodyAcc-mean()-Y  tBodyAcc-mean()-Z\n",
      "subject                                                         \n",
      "1                 0.288585          -0.020294          -0.132905\n",
      "1                 0.278419          -0.016411          -0.123520\n",
      "1                 0.279653          -0.019467          -0.113462\n",
      "1                 0.279174          -0.026201          -0.123283\n",
      "1                 0.276629          -0.016570          -0.115362\n",
      "Tamanho de X_train: (7352, 3)\n",
      "\n",
      "Conteúdo de y_train:\n",
      "   0\n",
      "0  5\n",
      "1  5\n",
      "2  5\n",
      "3  5\n",
      "4  5\n",
      "Tamanho de y_train: (7352, 1)\n",
      "As 3 variáveis mais importantes:\n",
      "            Variável  Importância\n",
      "0  tBodyAcc-mean()-X     0.664136\n",
      "1  tBodyAcc-mean()-Y     0.241343\n",
      "2  tBodyAcc-mean()-Z     0.094521\n"
     ]
    }
   ],
   "source": [
    "# Verificar o conteúdo das variáveis\n",
    "print(\"Conteúdo de X_train:\")\n",
    "print(X_train.head())\n",
    "print(f\"Tamanho de X_train: {X_train.shape}\")\n",
    "\n",
    "print(\"\\nConteúdo de y_train:\")\n",
    "print(y_train.head())\n",
    "print(f\"Tamanho de y_train: {y_train.shape}\")\n",
    "\n",
    "# Verificar se y_train está vazio\n",
    "if y_train.empty or y_train.shape[0] == 0:\n",
    "    raise ValueError(\"y_train está vazio. Verifique o arquivo de entrada.\")\n",
    "\n",
    "# Treinar a árvore de decisão\n",
    "clf = DecisionTreeClassifier(max_depth=4, random_state=42)\n",
    "clf.fit(X_train, y_train.values.ravel())\n",
    "\n",
    "# Obter a importância das variáveis\n",
    "importancia_variaveis = clf.feature_importances_\n",
    "\n",
    "# Criar um DataFrame para facilitar a visualização\n",
    "variaveis_importancia = pd.DataFrame({\n",
    "    'Variável': X_train.columns,\n",
    "    'Importância': importancia_variaveis\n",
    "})\n",
    "\n",
    "# Ordenar as variáveis pela importância\n",
    "variaveis_importancia = variaveis_importancia.sort_values(by='Importância', ascending=False)\n",
    "\n",
    "# Selecionar as 3 variáveis mais importantes\n",
    "top_3_variaveis = variaveis_importancia.head(3)\n",
    "\n",
    "# Exibir as 3 variáveis mais importantes\n",
    "print(\"As 3 variáveis mais importantes:\")\n",
    "print(top_3_variaveis)"
   ]
  },
  {
   "cell_type": "code",
   "execution_count": null,
   "metadata": {
    "tags": []
   },
   "outputs": [],
   "source": []
  },
  {
   "cell_type": "code",
   "execution_count": 20,
   "metadata": {
    "tags": []
   },
   "outputs": [
    {
     "data": {
      "text/html": [
       "<div>\n",
       "<style scoped>\n",
       "    .dataframe tbody tr th:only-of-type {\n",
       "        vertical-align: middle;\n",
       "    }\n",
       "\n",
       "    .dataframe tbody tr th {\n",
       "        vertical-align: top;\n",
       "    }\n",
       "\n",
       "    .dataframe thead th {\n",
       "        text-align: right;\n",
       "    }\n",
       "</style>\n",
       "<table border=\"1\" class=\"dataframe\">\n",
       "  <thead>\n",
       "    <tr style=\"text-align: right;\">\n",
       "      <th></th>\n",
       "      <th>Variável</th>\n",
       "      <th>Importância</th>\n",
       "    </tr>\n",
       "  </thead>\n",
       "  <tbody>\n",
       "    <tr>\n",
       "      <th>0</th>\n",
       "      <td>tBodyAcc-mean()-X</td>\n",
       "      <td>0.664136</td>\n",
       "    </tr>\n",
       "    <tr>\n",
       "      <th>1</th>\n",
       "      <td>tBodyAcc-mean()-Y</td>\n",
       "      <td>0.241343</td>\n",
       "    </tr>\n",
       "    <tr>\n",
       "      <th>2</th>\n",
       "      <td>tBodyAcc-mean()-Z</td>\n",
       "      <td>0.094521</td>\n",
       "    </tr>\n",
       "  </tbody>\n",
       "</table>\n",
       "</div>"
      ],
      "text/plain": [
       "            Variável  Importância\n",
       "0  tBodyAcc-mean()-X     0.664136\n",
       "1  tBodyAcc-mean()-Y     0.241343\n",
       "2  tBodyAcc-mean()-Z     0.094521"
      ]
     },
     "execution_count": 20,
     "metadata": {},
     "output_type": "execute_result"
    }
   ],
   "source": [
    "top_3_variaveis"
   ]
  },
  {
   "cell_type": "markdown",
   "metadata": {},
   "source": [
    "### 4. Construa uma árvore com as 3 melhores variáveis\n",
    "\n",
    "Utilizando as três variáveis encontradas acima, construa uma árvore de decisão. Encontre o melhor ```ccp_alpha``` utilizando a base de validação, conforme a estrutura que vimos em aula."
   ]
  },
  {
   "cell_type": "code",
   "execution_count": 22,
   "metadata": {
    "tags": []
   },
   "outputs": [
    {
     "name": "stdout",
     "output_type": "stream",
     "text": [
      "\n",
      "Melhor ccp_alpha: 0.0\n",
      "Acurácia no conjunto de validação: 0.1903467029231815\n"
     ]
    },
    {
     "data": {
      "image/png": "[encoded data removed]",
      "text/plain": [
       "<Figure size 1200x800 with 1 Axes>"
      ]
     },
     "metadata": {},
     "output_type": "display_data"
    },
    {
     "name": "stdout",
     "output_type": "stream",
     "text": [
      "CPU times: total: 125 ms\n",
      "Wall time: 488 ms\n"
     ]
    }
   ],
   "source": [
    "%%time\n",
    "\n",
    "# Preparar os dados apenas com as 3 melhores variáveis\n",
    "X_train_top3 = X_train[top_3_variaveis]\n",
    "\n",
    "# Dividir os dados em conjuntos de treinamento e validação\n",
    "X_train_split, X_val_split, y_train_split, y_val_split = train_test_split(X_train_top3, y_train.values.ravel(), test_size=0.2, random_state=42)\n",
    "\n",
    "# Treinar a árvore de decisão com diferentes valores de ccp_alpha\n",
    "path = DecisionTreeClassifier(random_state=42).cost_complexity_pruning_path(X_train_split, y_train_split)\n",
    "ccp_alphas = path.ccp_alphas\n",
    "trees = []\n",
    "\n",
    "for ccp_alpha in ccp_alphas:\n",
    "    clf = DecisionTreeClassifier(ccp_alpha=ccp_alpha, random_state=42)\n",
    "    clf.fit(X_train_split, y_train_split)\n",
    "    trees.append(clf)\n",
    "\n",
    "# Avaliar a árvore em relação ao conjunto de validação\n",
    "val_scores = [accuracy_score(y_val_split, clf.predict(X_val_split)) for clf in trees]\n",
    "\n",
    "# Encontrar o melhor ccp_alpha\n",
    "best_index = np.argmax(val_scores)\n",
    "best_ccp_alpha = ccp_alphas[best_index]\n",
    "best_tree = trees[best_index]\n",
    "\n",
    "print(f\"\\nMelhor ccp_alpha: {best_ccp_alpha}\")\n",
    "print(f\"Acurácia no conjunto de validação: {val_scores[best_index]}\")\n",
    "\n",
    "# Visualizar a árvore\n",
    "plt.figure(figsize=(12, 8))\n",
    "plot_tree(best_tree, feature_names=top_3_variaveis, filled=True)\n",
    "plt.title(\"Árvore de Decisão com as 3 Melhores Variáveis\")\n",
    "plt.show()"
   ]
  },
  {
   "cell_type": "markdown",
   "metadata": {},
   "source": [
    "### 5. Avaliação do modelo\n",
    "\n",
    "Avalie a árvore encontrada no item anterior na base de testes."
   ]
  },
  {
   "cell_type": "code",
   "execution_count": 42,
   "metadata": {
    "tags": []
   },
   "outputs": [],
   "source": [
    "# Carregar os dados de teste\n",
    "# Carregar os dados de teste\n",
    "\n",
    "x_test_path = r'C:\\Users\\Joel\\Downloads\\Data Scientist\\Mod 17\\UCI HAR Dataset\\UCI HAR Dataset\\test\\X_test.txt'\n",
    "y_test_path = r'C:\\Users\\Joel\\Downloads\\Data Scientist\\Mod 17\\UCI HAR Dataset\\UCI HAR Dataset\\test\\y_test.txt'"
   ]
  },
  {
   "cell_type": "code",
   "execution_count": 51,
   "metadata": {
    "tags": []
   },
   "outputs": [
    {
     "name": "stdout",
     "output_type": "stream",
     "text": [
      "Acurácia no conjunto de testes: 0.18221920597217509\n",
      "\n",
      "Relatório de Classificação:\n",
      "              precision    recall  f1-score   support\n",
      "\n",
      "           1       0.00      0.00      0.00       496\n",
      "           2       0.00      0.00      0.00       471\n",
      "           3       0.00      0.00      0.00       420\n",
      "           4       0.00      0.00      0.00       491\n",
      "           5       0.00      0.00      0.00       532\n",
      "           6       0.18      1.00      0.31       537\n",
      "\n",
      "    accuracy                           0.18      2947\n",
      "   macro avg       0.03      0.17      0.05      2947\n",
      "weighted avg       0.03      0.18      0.06      2947\n",
      "\n",
      "Matriz de Confusão:\n",
      "[[  0   0   0   0   0 496]\n",
      " [  0   0   0   0   0 471]\n",
      " [  0   0   0   0   0 420]\n",
      " [  0   0   0   0   0 491]\n",
      " [  0   0   0   0   0 532]\n",
      " [  0   0   0   0   0 537]]\n"
     ]
    },
    {
     "name": "stderr",
     "output_type": "stream",
     "text": [
      "C:\\Users\\Joel\\anaconda3\\Lib\\site-packages\\sklearn\\base.py:493: UserWarning: X does not have valid feature names, but DecisionTreeClassifier was fitted with feature names\n",
      "  warnings.warn(\n",
      "C:\\Users\\Joel\\anaconda3\\Lib\\site-packages\\sklearn\\metrics\\_classification.py:1531: UndefinedMetricWarning: Precision is ill-defined and being set to 0.0 in labels with no predicted samples. Use `zero_division` parameter to control this behavior.\n",
      "  _warn_prf(average, modifier, f\"{metric.capitalize()} is\", len(result))\n",
      "C:\\Users\\Joel\\anaconda3\\Lib\\site-packages\\sklearn\\metrics\\_classification.py:1531: UndefinedMetricWarning: Precision is ill-defined and being set to 0.0 in labels with no predicted samples. Use `zero_division` parameter to control this behavior.\n",
      "  _warn_prf(average, modifier, f\"{metric.capitalize()} is\", len(result))\n",
      "C:\\Users\\Joel\\anaconda3\\Lib\\site-packages\\sklearn\\metrics\\_classification.py:1531: UndefinedMetricWarning: Precision is ill-defined and being set to 0.0 in labels with no predicted samples. Use `zero_division` parameter to control this behavior.\n",
      "  _warn_prf(average, modifier, f\"{metric.capitalize()} is\", len(result))\n"
     ]
    }
   ],
   "source": [
    "# Carregar os dados\n",
    "X_test = pd.read_csv(x_test_path, delim_whitespace=True, header=None)\n",
    "y_test = pd.read_csv(y_test_path, header=None)\n",
    "\n",
    "# Defina as 3 melhores variáveis (substitua pelos nomes corretos se necessário)\n",
    "top_3_variaveis = X_test.columns[:3].tolist()  # Por exemplo, as 3 primeiras colunas\n",
    "\n",
    "# Preparar os dados de teste\n",
    "X_test_top3 = X_test[top_3_variaveis]\n",
    "\n",
    "# Avaliar o modelo (substitua 'best_tree' pela sua árvore de decisão)\n",
    "try:\n",
    "    y_pred = best_tree.predict(X_test_top3)\n",
    "\n",
    "    # Calcular a acurácia\n",
    "    accuracy = accuracy_score(y_test, y_pred)\n",
    "    print(f\"Acurácia no conjunto de testes: {accuracy}\")\n",
    "\n",
    "    # Relatório de classificação\n",
    "    print(\"\\nRelatório de Classificação:\")\n",
    "    print(classification_report(y_test, y_pred))\n",
    "\n",
    "    # Matriz de confusão\n",
    "    print(\"Matriz de Confusão:\")\n",
    "    print(confusion_matrix(y_test, y_pred))\n",
    "\n",
    "except Exception as e:\n",
    "    print(f\"Erro ao avaliar o modelo: {e}\")"
   ]
  },
  {
   "cell_type": "code",
   "execution_count": null,
   "metadata": {},
   "outputs": [],
   "source": []
  },
  {
   "cell_type": "code",
   "execution_count": null,
   "metadata": {},
   "outputs": [],
   "source": []
  }
 ],
 "metadata": {
  "kernelspec": {
   "display_name": "Python 3 (ipykernel)",
   "language": "python",
   "name": "python3"
  },
  "language_info": {
   "codemirror_mode": {
    "name": "ipython",
    "version": 3
   },
   "file_extension": ".py",
   "mimetype": "text/x-python",
   "name": "python",
   "nbconvert_exporter": "python",
   "pygments_lexer": "ipython3",
   "version": "3.11.7"
  }
 },
 "nbformat": 4,
 "nbformat_minor": 4
}
