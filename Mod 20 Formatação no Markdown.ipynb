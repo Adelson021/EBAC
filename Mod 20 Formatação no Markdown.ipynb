{
 "cells": [
  {
   "cell_type": "markdown",
   "id": "1b09d061-8a23-4e82-8ea3-86e073816c6f",
   "metadata": {},
   "source": [
    "<h1 style=\"font-size: 2em; color: navy; font-weight: bold;\">Fórmula de Bhaskara</h1>"
   ]
  },
  {
   "cell_type": "markdown",
   "id": "7abd2a54-4d62-43ea-91a3-9242376b23cb",
   "metadata": {},
   "source": [
    "A solução para uma função de segundo grau depende das suas raízes (valores de x). Como já vimos, os coeficientes precisam ser números reais e o angular diferente de zero. Sendo assim, temos a seguinte fórmula de Bhaskara:"
   ]
  },
  {
   "cell_type": "markdown",
   "id": "ea0bb4df-b0b0-4368-9850-053408d4dc2b",
   "metadata": {},
   "source": [
    "<div style=\"font-size: 2.5em;\">\n",
    "$$\n",
    "x = \\frac{-b \\pm \\sqrt{b^2 - 4ac}}{2a}\n",
    "$$\n",
    "</div>"
   ]
  },
  {
   "cell_type": "markdown",
   "id": "4ef80eb1-5b81-4d7a-934e-f673e3f19b32",
   "metadata": {
    "tags": []
   },
   "source": [
    "##### <center>*Fórmula de Bhaskara*</center>\n",
    "\n",
    "Para melhor compreensão, o cálculo é dividido em duas partes: discriminante da equação e operações para determinar as raízes.\n",
    "\n",
    "##### Discriminante\n",
    "\n",
    "A figura dentro da raiz na fórmula de Bhaskara é nomeada de discriminante. Seu símbolo é a letra grega delta (Δ) e apresenta a seguinte fórmula:\n",
    "\n",
    "<div style=\"font-size: 2.5em;\">\n",
    "$$\n",
    "\\Delta = b^2 - 4ac\n",
    "$$\n",
    "</div>\n",
    "\n",
    "##### <center>*Fórmula da Discriminante*</center>\n",
    "\n",
    "- Se o delta for maior que zero, a equação terá dois valores reais e distintos.\n",
    "- Se o delta for igual a zero, a equação terá somente um valor real ou dois resultados iguais.\n",
    "- Se o delta for menor que zero, a equação não possuirá valores reais."
   ]
  },
  {
   "cell_type": "markdown",
   "id": "3216b308-cd77-46c4-a280-c86c93d84a1a",
   "metadata": {},
   "source": []
  },
  {
   "cell_type": "code",
   "execution_count": null,
   "id": "7846322c-7f90-49ea-b09f-a12655d25780",
   "metadata": {},
   "outputs": [],
   "source": []
  }
 ],
 "metadata": {
  "kernelspec": {
   "display_name": "Python 3 (ipykernel)",
   "language": "python",
   "name": "python3"
  },
  "language_info": {
   "codemirror_mode": {
    "name": "ipython",
    "version": 3
   },
   "file_extension": ".py",
   "mimetype": "text/x-python",
   "name": "python",
   "nbconvert_exporter": "python",
   "pygments_lexer": "ipython3",
   "version": "3.11.7"
  }
 },
 "nbformat": 4,
 "nbformat_minor": 5
}
