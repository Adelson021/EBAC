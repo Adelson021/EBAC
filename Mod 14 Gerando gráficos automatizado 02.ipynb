{
 "cells": [
  {
   "cell_type": "code",
   "execution_count": null,
   "id": "9dc27b8f",
   "metadata": {},
   "outputs": [],
   "source": [
    "#Formula para gerar analise gráfico de forma automatico usando .py\n",
    "#Para chamar é necessario esta na pasta do arquivo pelo cmd e digitar python \"nome do arquivo.py\" MES "
   ]
  },
  {
   "cell_type": "code",
   "execution_count": null,
   "id": "635f6aff",
   "metadata": {},
   "outputs": [],
   "source": [
    "import pandas as pd\n",
    "import seaborn as sns\n",
    "import matplotlib.pyplot as plt\n",
    "import os\n",
    "import sys\n",
    "\n",
    "sns.set_theme()\n",
    "\n",
    "def plota_pivot_table(df, value, index, func, ylabel, xlabel, opcao='nada'):\n",
    "    if opcao == 'nada':\n",
    "        pd.pivot_table(df, values=value, index=index, aggfunc=func).plot(figsize=[15, 5])\n",
    "    elif opcao == 'sort':\n",
    "        pd.pivot_table(df, values=value, index=index, aggfunc=func).sort_values(value).plot(figsize=[15, 5])\n",
    "    elif opcao == 'unstack':\n",
    "        pd.pivot_table(df, values=value, index=index, aggfunc=func).unstack().plot(figsize=[15, 5])\n",
    "    plt.ylabel(ylabel)\n",
    "    plt.xlabel(xlabel)\n",
    "    return None\n",
    "\n",
    "print('O nome do nosso script é: ',sys.argv[0])\n",
    "mes = sys.argv[1]\n",
    "\n",
    "print('Mes de referência é: ', mes)\n",
    "\n",
    "\n",
    "sinasc = pd.read_csv(f'./input/SINASC_RO_2019_'+mes+'.csv')\n",
    "\n",
    "\n",
    "# Criar o diretório para salvar as figuras\n",
    "max_data = sinasc.DTNASC.max()[:7]\n",
    "print(max_data)\n",
    "\n",
    "os.makedirs(f'./output/figs/{max_data}', exist_ok=True)\n",
    "\n",
    "# Gerar e salvar os gráficos\n",
    "plota_pivot_table(sinasc, 'IDADEMAE', 'DTNASC', 'count', 'quantidade de nascimento', 'data de nascimento')\n",
    "plt.savefig(f'./output/figs/{max_data}/quantidade de nascimento.png')\n",
    "\n",
    "plota_pivot_table(sinasc, 'IDADEMAE', ['DTNASC', 'SEXO'], 'mean', 'média idade mãe', 'data de nascimento', 'unstack')\n",
    "plt.savefig(f'./output/figs/{max_data}/media idade mae por sexo.png')\n",
    "\n",
    "plota_pivot_table(sinasc, 'PESO', ['DTNASC', 'SEXO'], 'mean', 'média peso bebê', 'data de nascimento', 'unstack')\n",
    "plt.savefig(f'./output/figs/{max_data}/media peso bebe por sexo.png')\n",
    "\n",
    "plota_pivot_table(sinasc, 'PESO', 'ESCMAE', 'median', 'peso mediano', 'escolaridade mãe', 'sort')\n",
    "plt.savefig(f'./output/figs/{max_data}/peso mediano por escolaridade mae.png')\n",
    "\n",
    "plota_pivot_table(sinasc, 'APGAR1', 'GESTACAO', 'mean', 'APGAR1 médio', 'gestação', 'sort')\n",
    "plt.savefig(f'./output/figs/{max_data}/media apgar1 por gestacao.png')\n",
    "\n",
    "plota_pivot_table(sinasc, 'APGAR5', 'GESTACAO', 'mean', 'APGAR5 médio', 'gestação', 'sort')\n",
    "plt.savefig(f'./output/figs/{max_data}/media apgar5 por gestacao.png')"
   ]
  }
 ],
 "metadata": {
  "kernelspec": {
   "display_name": "Python 3 (ipykernel)",
   "language": "python",
   "name": "python3"
  },
  "language_info": {
   "codemirror_mode": {
    "name": "ipython",
    "version": 3
   },
   "file_extension": ".py",
   "mimetype": "text/x-python",
   "name": "python",
   "nbconvert_exporter": "python",
   "pygments_lexer": "ipython3",
   "version": "3.11.7"
  }
 },
 "nbformat": 4,
 "nbformat_minor": 5
}
