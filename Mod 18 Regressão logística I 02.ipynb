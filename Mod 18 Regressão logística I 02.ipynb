{
 "cells": [
  {
   "cell_type": "markdown",
   "metadata": {},
   "source": [
    "# Regressão Logística I\n",
    "## Tarefa II\n",
    "\n",
    "Vamos trabalhar com a mesma base do exercício anterior, mas vamos aprofundar um pouco mais a nossa regressão."
   ]
  },
  {
   "cell_type": "code",
   "execution_count": 42,
   "metadata": {
    "tags": []
   },
   "outputs": [],
   "source": [
    "import pandas as pd\n",
    "import seaborn as sns\n",
    "import matplotlib.pyplot as plt\n",
    "import numpy as np\n",
    "import statsmodels.api as sm\n",
    "import statsmodels.formula.api as smf\n",
    "from sklearn.metrics import accuracy_score, roc_auc_score\n",
    "from scipy import stats"
   ]
  },
  {
   "cell_type": "code",
   "execution_count": 5,
   "metadata": {
    "tags": []
   },
   "outputs": [
    {
     "data": {
      "text/html": [
       "<div>\n",
       "<style scoped>\n",
       "    .dataframe tbody tr th:only-of-type {\n",
       "        vertical-align: middle;\n",
       "    }\n",
       "\n",
       "    .dataframe tbody tr th {\n",
       "        vertical-align: top;\n",
       "    }\n",
       "\n",
       "    .dataframe thead th {\n",
       "        text-align: right;\n",
       "    }\n",
       "</style>\n",
       "<table border=\"1\" class=\"dataframe\">\n",
       "  <thead>\n",
       "    <tr style=\"text-align: right;\">\n",
       "      <th></th>\n",
       "      <th>age</th>\n",
       "      <th>sex</th>\n",
       "      <th>cp</th>\n",
       "      <th>trestbps</th>\n",
       "      <th>chol</th>\n",
       "      <th>fbs</th>\n",
       "      <th>restecg</th>\n",
       "      <th>thalach</th>\n",
       "      <th>exang</th>\n",
       "      <th>oldpeak</th>\n",
       "      <th>slope</th>\n",
       "      <th>ca</th>\n",
       "      <th>thal</th>\n",
       "      <th>num</th>\n",
       "      <th>flag_doente</th>\n",
       "    </tr>\n",
       "  </thead>\n",
       "  <tbody>\n",
       "    <tr>\n",
       "      <th>0</th>\n",
       "      <td>63.0</td>\n",
       "      <td>1.0</td>\n",
       "      <td>1.0</td>\n",
       "      <td>145.0</td>\n",
       "      <td>233.0</td>\n",
       "      <td>1.0</td>\n",
       "      <td>2.0</td>\n",
       "      <td>150.0</td>\n",
       "      <td>0.0</td>\n",
       "      <td>2.3</td>\n",
       "      <td>3.0</td>\n",
       "      <td>0.0</td>\n",
       "      <td>6.0</td>\n",
       "      <td>0</td>\n",
       "      <td>0</td>\n",
       "    </tr>\n",
       "    <tr>\n",
       "      <th>1</th>\n",
       "      <td>67.0</td>\n",
       "      <td>1.0</td>\n",
       "      <td>4.0</td>\n",
       "      <td>160.0</td>\n",
       "      <td>286.0</td>\n",
       "      <td>0.0</td>\n",
       "      <td>2.0</td>\n",
       "      <td>108.0</td>\n",
       "      <td>1.0</td>\n",
       "      <td>1.5</td>\n",
       "      <td>2.0</td>\n",
       "      <td>3.0</td>\n",
       "      <td>3.0</td>\n",
       "      <td>2</td>\n",
       "      <td>1</td>\n",
       "    </tr>\n",
       "    <tr>\n",
       "      <th>2</th>\n",
       "      <td>67.0</td>\n",
       "      <td>1.0</td>\n",
       "      <td>4.0</td>\n",
       "      <td>120.0</td>\n",
       "      <td>229.0</td>\n",
       "      <td>0.0</td>\n",
       "      <td>2.0</td>\n",
       "      <td>129.0</td>\n",
       "      <td>1.0</td>\n",
       "      <td>2.6</td>\n",
       "      <td>2.0</td>\n",
       "      <td>2.0</td>\n",
       "      <td>7.0</td>\n",
       "      <td>1</td>\n",
       "      <td>1</td>\n",
       "    </tr>\n",
       "    <tr>\n",
       "      <th>3</th>\n",
       "      <td>37.0</td>\n",
       "      <td>1.0</td>\n",
       "      <td>3.0</td>\n",
       "      <td>130.0</td>\n",
       "      <td>250.0</td>\n",
       "      <td>0.0</td>\n",
       "      <td>0.0</td>\n",
       "      <td>187.0</td>\n",
       "      <td>0.0</td>\n",
       "      <td>3.5</td>\n",
       "      <td>3.0</td>\n",
       "      <td>0.0</td>\n",
       "      <td>3.0</td>\n",
       "      <td>0</td>\n",
       "      <td>0</td>\n",
       "    </tr>\n",
       "    <tr>\n",
       "      <th>4</th>\n",
       "      <td>41.0</td>\n",
       "      <td>0.0</td>\n",
       "      <td>2.0</td>\n",
       "      <td>130.0</td>\n",
       "      <td>204.0</td>\n",
       "      <td>0.0</td>\n",
       "      <td>2.0</td>\n",
       "      <td>172.0</td>\n",
       "      <td>0.0</td>\n",
       "      <td>1.4</td>\n",
       "      <td>1.0</td>\n",
       "      <td>0.0</td>\n",
       "      <td>3.0</td>\n",
       "      <td>0</td>\n",
       "      <td>0</td>\n",
       "    </tr>\n",
       "  </tbody>\n",
       "</table>\n",
       "</div>"
      ],
      "text/plain": [
       "    age  sex   cp  trestbps   chol  fbs  restecg  thalach  exang  oldpeak  \\\n",
       "0  63.0  1.0  1.0     145.0  233.0  1.0      2.0    150.0    0.0      2.3   \n",
       "1  67.0  1.0  4.0     160.0  286.0  0.0      2.0    108.0    1.0      1.5   \n",
       "2  67.0  1.0  4.0     120.0  229.0  0.0      2.0    129.0    1.0      2.6   \n",
       "3  37.0  1.0  3.0     130.0  250.0  0.0      0.0    187.0    0.0      3.5   \n",
       "4  41.0  0.0  2.0     130.0  204.0  0.0      2.0    172.0    0.0      1.4   \n",
       "\n",
       "   slope   ca thal  num  flag_doente  \n",
       "0    3.0  0.0  6.0    0            0  \n",
       "1    2.0  3.0  3.0    2            1  \n",
       "2    2.0  2.0  7.0    1            1  \n",
       "3    3.0  0.0  3.0    0            0  \n",
       "4    1.0  0.0  3.0    0            0  "
      ]
     },
     "execution_count": 5,
     "metadata": {},
     "output_type": "execute_result"
    }
   ],
   "source": [
    "url = 'https://archive.ics.uci.edu/ml/machine-learning-databases/heart-disease/processed.cleveland.data'\n",
    "\n",
    "df = pd.read_csv(url, \n",
    "                 names=['age', 'sex', 'cp', 'trestbps', 'chol', 'fbs', 'restecg',\n",
    "                        'thalach', 'exang', 'oldpeak', 'slope', 'ca', 'thal', 'num'])\n",
    "df['flag_doente'] = (df['num']!=0).astype('int64')\n",
    "df.head()"
   ]
  },
  {
   "cell_type": "markdown",
   "metadata": {},
   "source": [
    "A descrição das variáveis está recortada abaixo:\n",
    "- age: idade do paciente em anos\n",
    "- sex: sexo (1 = male; 0 = female)  \n",
    "- cp: tipo de dor no peito\n",
    "  - 1: angina típica\n",
    "  - 2: angina atípica\n",
    "  - 3: dor não-angina\n",
    "  - 4: assintomático\n",
    "- trestbps: pressão sanguínea em repouso (em mm Hg na admissão ao hospital\n",
    "- chol: colesterol sérico em mg/dl\n",
    "- fbs: (açúcar no sangue em jejum > 120 mg/dl) (1 = True; 0 = False)\n",
    "- restecg: resultados eletrocardiográficos em repouso\n",
    "  - 0: normal\n",
    "  - 1: tendo anormalidade da onda ST-T (Inversões de onda T e / ou ST com elevação ou depressão de > 0.05 mV)\n",
    "  - 2: mostrando hipertrofia ventricular esquerda provável ou definitiva pelos critérios de Estes\n",
    "- thalach: frequência cardíaca máxima alcançada\n",
    "- exang: angina induzida por exercício(1 = sim; 0 = não)\n",
    "- oldpeak = Depressão de ST induzida por exercício em relação ao repouso\n",
    "- slope: Depressão de ST induzida por exercício em relação ao repouso\n",
    "  - 1: inclinação ascendente\n",
    "  - 2: estável\n",
    "  - 3: inclinação descendente\n",
    "- ca: número de vasos principais (0-3) coloridos por fluorosopia\n",
    "- thal: 3 = normal; 6 = defeito corrigido; 7 = defeito reversível\n",
    "- num: diagnóstico de doença cardíaga (status de doença angiográfica)"
   ]
  },
  {
   "cell_type": "code",
   "execution_count": 7,
   "metadata": {
    "tags": []
   },
   "outputs": [
    {
     "name": "stdout",
     "output_type": "stream",
     "text": [
      "<class 'pandas.core.frame.DataFrame'>\n",
      "RangeIndex: 303 entries, 0 to 302\n",
      "Data columns (total 15 columns):\n",
      " #   Column       Non-Null Count  Dtype  \n",
      "---  ------       --------------  -----  \n",
      " 0   age          303 non-null    float64\n",
      " 1   sex          303 non-null    float64\n",
      " 2   cp           303 non-null    float64\n",
      " 3   trestbps     303 non-null    float64\n",
      " 4   chol         303 non-null    float64\n",
      " 5   fbs          303 non-null    float64\n",
      " 6   restecg      303 non-null    float64\n",
      " 7   thalach      303 non-null    float64\n",
      " 8   exang        303 non-null    float64\n",
      " 9   oldpeak      303 non-null    float64\n",
      " 10  slope        303 non-null    float64\n",
      " 11  ca           303 non-null    object \n",
      " 12  thal         303 non-null    object \n",
      " 13  num          303 non-null    int64  \n",
      " 14  flag_doente  303 non-null    int64  \n",
      "dtypes: float64(11), int64(2), object(2)\n",
      "memory usage: 35.6+ KB\n"
     ]
    }
   ],
   "source": [
    "df.info()"
   ]
  },
  {
   "cell_type": "code",
   "execution_count": 8,
   "metadata": {
    "tags": []
   },
   "outputs": [
    {
     "name": "stdout",
     "output_type": "stream",
     "text": [
      "age            0\n",
      "sex            0\n",
      "cp             0\n",
      "trestbps       0\n",
      "chol           0\n",
      "fbs            0\n",
      "restecg        0\n",
      "thalach        0\n",
      "exang          0\n",
      "oldpeak        0\n",
      "slope          0\n",
      "ca             0\n",
      "thal           0\n",
      "num            0\n",
      "flag_doente    0\n",
      "dtype: int64\n"
     ]
    }
   ],
   "source": [
    "missing_values = df.isnull().sum()\n",
    "print(missing_values)"
   ]
  },
  {
   "cell_type": "markdown",
   "metadata": {},
   "source": [
    "1. Considere o script que monta a análise bivariada que você fez na tarefa anterior. Transforme esse script em uma função, que deve:\n",
    "- Ter como parâmetros de entrada:\n",
    "    - Um *dataframe* contendo os dados a serem avaliados\n",
    "    - Um *string* contendo o nome da variável resposta\n",
    "    - Um *string* contendo o nome da variável explicativa\n",
    "- E deve retornar um *dataframe* com os dados da bivariada. \n",
    "**Monte** a mesma bivariada pelo menos três variáveis qualitativas do *data-frame*. Qual delas parece discriminar mais o risco?"
   ]
  },
  {
   "cell_type": "code",
   "execution_count": 10,
   "metadata": {
    "tags": []
   },
   "outputs": [],
   "source": [
    "def bivariada(df, resposta, explicativa):\n",
    "    # Contagem de saudáveis e doentes por variável explicativa\n",
    "    bivariada_df = df.groupby(explicativa)[resposta].agg(\n",
    "        saudaveis=lambda x: (x == 0).sum(),\n",
    "        doentes=lambda x: (x == 1).sum()\n",
    "    ).reset_index()\n",
    "\n",
    "    # Total de indivíduos por variável explicativa\n",
    "    bivariada_df['total'] = bivariada_df['saudaveis'] + bivariada_df['doentes']\n",
    "\n",
    "    # Quantidade média de doentes\n",
    "    bivariada_df['media_doentes'] = bivariada_df['doentes'] / bivariada_df['total']\n",
    "\n",
    "    # Cálculo dos Odds\n",
    "    bivariada_df['odds'] = bivariada_df['doentes'] / bivariada_df['saudaveis']\n",
    "\n",
    "    # Odds ratio usando o total como referência\n",
    "    odds_total = df[resposta].mean() / (1 - df[resposta].mean())\n",
    "    bivariada_df['odds_ratio'] = bivariada_df['odds'] / odds_total\n",
    "\n",
    "    # Logito (Log dos Odds)\n",
    "    bivariada_df['logito'] = np.log(bivariada_df['odds'])\n",
    "\n",
    "    # Weight of Evidence (WOE - Log do Odds Ratio)\n",
    "    bivariada_df['woe'] = np.log(bivariada_df['odds_ratio'])\n",
    "\n",
    "    return bivariada_df"
   ]
  },
  {
   "cell_type": "code",
   "execution_count": 12,
   "metadata": {
    "tags": []
   },
   "outputs": [
    {
     "name": "stdout",
     "output_type": "stream",
     "text": [
      "Bivariada para a variável 'sex':\n",
      "   sex  saudaveis  doentes  total  media_doentes      odds  odds_ratio  \\\n",
      "0  0.0         72       25     97       0.257732  0.347222    0.409672   \n",
      "1  1.0         92      114    206       0.553398  1.239130    1.461996   \n",
      "\n",
      "    logito       woe  \n",
      "0 -1.05779 -0.892398  \n",
      "1  0.21441  0.379802  \n",
      "\n",
      "Bivariada para a variável 'cp':\n",
      "    cp  saudaveis  doentes  total  media_doentes      odds  odds_ratio  \\\n",
      "0  1.0         16        7     23       0.304348  0.437500    0.516187   \n",
      "1  2.0         41        9     50       0.180000  0.219512    0.258993   \n",
      "2  3.0         68       18     86       0.209302  0.264706    0.312315   \n",
      "3  4.0         39      105    144       0.729167  2.692308    3.176536   \n",
      "\n",
      "     logito       woe  \n",
      "0 -0.826679 -0.661286  \n",
      "1 -1.516347 -1.350955  \n",
      "2 -1.329136 -1.163743  \n",
      "3  0.990399  1.155791  \n",
      "\n",
      "Bivariada para a variável 'fbs':\n",
      "   fbs  saudaveis  doentes  total  media_doentes      odds  odds_ratio  \\\n",
      "0  0.0        141      117    258       0.453488  0.829787    0.979030   \n",
      "1  1.0         23       22     45       0.488889  0.956522    1.128558   \n",
      "\n",
      "     logito       woe  \n",
      "0 -0.186586 -0.021193  \n",
      "1 -0.044452  0.120941  \n"
     ]
    }
   ],
   "source": [
    "# Analisando a variável sex\n",
    "bivariada_sex = bivariada(df, 'flag_doente', 'sex')\n",
    "print(\"Bivariada para a variável 'sex':\")\n",
    "print(bivariada_sex)\n",
    "\n",
    "# Analisando a variável cp (tipo de dor no peito)\n",
    "bivariada_cp = bivariada(df, 'flag_doente', 'cp')\n",
    "print(\"\\nBivariada para a variável 'cp':\")\n",
    "print(bivariada_cp)\n",
    "\n",
    "# Analisando a variável fbs (nível de açúcar no sangue em jejum)\n",
    "bivariada_fbs = bivariada(df, 'flag_doente', 'fbs')\n",
    "print(\"\\nBivariada para a variável 'fbs':\")\n",
    "print(bivariada_fbs)"
   ]
  },
  {
   "cell_type": "code",
   "execution_count": null,
   "metadata": {
    "tags": []
   },
   "outputs": [],
   "source": []
  },
  {
   "cell_type": "markdown",
   "metadata": {},
   "source": [
    "2. Monte uma função semelhante para categorizar variáveis quantitativas contínuas (com muitas categorias) como ```age```.  \n",
    "    Além dos mesmos parâmetros da função anterior, defina mais um parâmetro como número de categorias que você deseja quebrar. Defina um valor '*default*' de 5 grupos para este parâmetro.  "
   ]
  },
  {
   "cell_type": "code",
   "execution_count": 21,
   "metadata": {
    "tags": []
   },
   "outputs": [],
   "source": [
    "def bivariada_continua(df, resposta, explicativa, num_categorias=5):\n",
    "    # Categorizar a variável quantitativa em grupos\n",
    "    df['grupo_' + explicativa] = pd.qcut(df[explicativa], q=num_categorias, labels=False)\n",
    "\n",
    "    # Contagem de saudáveis e doentes por grupo da variável explicativa\n",
    "    bivariada_df = df.groupby('grupo_' + explicativa)[resposta].agg(\n",
    "        saudaveis=lambda x: (x == 0).sum(),\n",
    "        doentes=lambda x: (x == 1).sum()\n",
    "    ).reset_index()\n",
    "\n",
    "    # Total de indivíduos por grupo\n",
    "    bivariada_df['total'] = bivariada_df['saudaveis'] + bivariada_df['doentes']\n",
    "\n",
    "    # Quantidade média de doentes\n",
    "    bivariada_df['media_doentes'] = bivariada_df['doentes'] / bivariada_df['total']\n",
    "\n",
    "    # Cálculo dos Odds\n",
    "    bivariada_df['odds'] = bivariada_df['doentes'] / bivariada_df['saudaveis']\n",
    "\n",
    "    # Odds ratio usando o total como referência\n",
    "    odds_total = df[resposta].mean() / (1 - df[resposta].mean())\n",
    "    bivariada_df['odds_ratio'] = bivariada_df['odds'] / odds_total\n",
    "\n",
    "    # Logito (Log dos Odds)\n",
    "    bivariada_df['logito'] = np.log(bivariada_df['odds'])\n",
    "\n",
    "    # Weight of Evidence (WOE - Log do Odds Ratio)\n",
    "    bivariada_df['woe'] = np.log(bivariada_df['odds_ratio'])\n",
    "\n",
    "    # Valor médio da variável explicativa por grupo\n",
    "    bivariada_df['media_' + explicativa] = df.groupby('grupo_' + explicativa)[explicativa].mean().reset_index(drop=True)\n",
    "\n",
    "    return bivariada_df"
   ]
  },
  {
   "cell_type": "code",
   "execution_count": 23,
   "metadata": {
    "tags": []
   },
   "outputs": [
    {
     "name": "stdout",
     "output_type": "stream",
     "text": [
      "Bivariada para a variável 'age' (5 grupos):\n",
      "   grupo_age  saudaveis  doentes  total  media_doentes      odds  odds_ratio  \\\n",
      "0          0         47       16     63       0.253968  0.340426    0.401653   \n",
      "1          1         42       22     64       0.343750  0.523810    0.618020   \n",
      "2          2         32       39     71       0.549296  1.218750    1.437950   \n",
      "3          3         13       32     45       0.711111  2.461538    2.904261   \n",
      "4          4         30       30     60       0.500000  1.000000    1.179856   \n",
      "\n",
      "     logito       woe  media_age  \n",
      "0 -1.077559 -0.912166  41.222222  \n",
      "1 -0.646627 -0.481235  50.000000  \n",
      "2  0.197826  0.363218  56.211268  \n",
      "3  0.900787  1.066179  60.355556  \n",
      "4  0.000000  0.165392  66.516667  \n",
      "\n",
      "Bivariada para a variável 'age' (3 grupos):\n",
      "   grupo_age  saudaveis  doentes  total  media_doentes      odds  odds_ratio  \\\n",
      "0          0         74       32    106       0.301887  0.432432    0.510208   \n",
      "1          1         52       54    106       0.509434  1.038462    1.225235   \n",
      "2          2         38       53     91       0.582418  1.394737    1.645589   \n",
      "\n",
      "     logito       woe  media_age  \n",
      "0 -0.838329 -0.672937  44.311321  \n",
      "1  0.037740  0.203133  55.820755  \n",
      "2  0.332706  0.498098  64.626374  \n"
     ]
    }
   ],
   "source": [
    "# Analisando a variável age (idade) com 5 grupos (default)\n",
    "bivariada_age = bivariada_continua(df, 'flag_doente', 'age')\n",
    "print(\"Bivariada para a variável 'age' (5 grupos):\")\n",
    "print(bivariada_age)\n",
    "\n",
    "# Analisando a variável age (idade) com 3 grupos\n",
    "bivariada_age_3_grupos = bivariada_continua(df, 'flag_doente', 'age', num_categorias=3)\n",
    "print(\"\\nBivariada para a variável 'age' (3 grupos):\")\n",
    "print(bivariada_age_3_grupos)"
   ]
  },
  {
   "cell_type": "markdown",
   "metadata": {},
   "source": [
    "3. Construa um modelo de regressão logística com as variáveis qualitativas: ```sex + cp +  trestbps``` e com a variável quantitativa ```age```.\n",
    "\n",
    "**Interprete os parâmetros.**"
   ]
  },
  {
   "cell_type": "code",
   "execution_count": 27,
   "metadata": {
    "tags": []
   },
   "outputs": [
    {
     "name": "stdout",
     "output_type": "stream",
     "text": [
      "Optimization terminated successfully.\n",
      "         Current function value: 0.476154\n",
      "         Iterations 6\n",
      "                           Logit Regression Results                           \n",
      "==============================================================================\n",
      "Dep. Variable:            flag_doente   No. Observations:                  303\n",
      "Model:                          Logit   Df Residuals:                      296\n",
      "Method:                           MLE   Df Model:                            6\n",
      "Date:                Tue, 17 Sep 2024   Pseudo R-squ.:                  0.3097\n",
      "Time:                        13:43:45   Log-Likelihood:                -144.27\n",
      "converged:                       True   LL-Null:                       -208.99\n",
      "Covariance Type:            nonrobust   LLR p-value:                 1.692e-25\n",
      "=================================================================================\n",
      "                    coef    std err          z      P>|z|      [0.025      0.975]\n",
      "---------------------------------------------------------------------------------\n",
      "Intercept        -8.3407      1.621     -5.145      0.000     -11.518      -5.163\n",
      "C(sex)[T.1.0]     1.8094      0.353      5.130      0.000       1.118       2.501\n",
      "C(cp)[T.2.0]     -0.0617      0.636     -0.097      0.923      -1.309       1.186\n",
      "C(cp)[T.3.0]      0.0715      0.573      0.125      0.901      -1.051       1.194\n",
      "C(cp)[T.4.0]      2.4789      0.553      4.485      0.000       1.396       3.562\n",
      "trestbps          0.0193      0.009      2.261      0.024       0.003       0.036\n",
      "age               0.0567      0.018      3.120      0.002       0.021       0.092\n",
      "=================================================================================\n"
     ]
    }
   ],
   "source": [
    "# Modelo de regressão logística com as variáveis 'sex', 'cp', 'trestbps' e 'age'\n",
    "modelo_logistico = smf.logit(formula='flag_doente ~ C(sex) + C(cp) + trestbps + age', data=df).fit()\n",
    "\n",
    "# Exibir o resumo do modelo\n",
    "print(modelo_logistico.summary())"
   ]
  },
  {
   "cell_type": "code",
   "execution_count": 23,
   "metadata": {
    "tags": []
   },
   "outputs": [],
   "source": []
  },
  {
   "cell_type": "markdown",
   "metadata": {
    "tags": []
   },
   "source": [
    "<span style=\"color:red\">O P-value do cp não é significativo com as variáveis em dummies.</span>\n"
   ]
  },
  {
   "cell_type": "markdown",
   "metadata": {},
   "source": [
    "4. Avalie o seu modelo quanto a **calibragem**:\n",
    "- Calcule a probabilidade de evento predita segundo o seu modelo\n",
    "- Categorize essa probabilidade em G=5 grupos\n",
    "- Calcule a probabilidade de evento predita média por grupo\n",
    "- Calcule a taxa de eventos (média da variável indicadora de eventos) por grupo\n",
    "- Compare graficamente o valor eperado versus observado para a taxa de maus por grupo"
   ]
  },
  {
   "cell_type": "code",
   "execution_count": null,
   "metadata": {},
   "outputs": [],
   "source": []
  },
  {
   "cell_type": "code",
   "execution_count": 39,
   "metadata": {
    "tags": []
   },
   "outputs": [
    {
     "name": "stdout",
     "output_type": "stream",
     "text": [
      "   grupo_prob  prob_predita_media  taxa_eventos_observada\n",
      "0           0            0.072008                0.080645\n",
      "1           1            0.209626                0.152542\n",
      "2           2            0.435175                0.483871\n",
      "3           3            0.708861                0.762712\n",
      "4           4            0.874819                0.819672\n"
     ]
    },
    {
     "data": {
      "image/png": "[encoded data removed]",
      "text/plain": [
       "<Figure size 800x600 with 1 Axes>"
      ]
     },
     "metadata": {},
     "output_type": "display_data"
    }
   ],
   "source": [
    "# Calculando a probabilidade de evento predita pelo modelo\n",
    "df['prob_predita'] = modelo_logistico.predict(df)\n",
    "\n",
    "# Visualizando as primeiras linhas com a probabilidade predita\n",
    "df[['flag_doente', 'prob_predita']].head()\n",
    "\n",
    "# Categorizar as probabilidades preditas em 5 grupos (quantis)\n",
    "df['grupo_prob'] = pd.qcut(df['prob_predita'], q=5, labels=False)\n",
    "\n",
    "# Visualizando as primeiras linhas com o grupo de probabilidade\n",
    "df[['prob_predita', 'grupo_prob']].head()\n",
    "\n",
    "# Calcular a probabilidade predita média e a taxa de eventos observada por grupo\n",
    "calibragem_df = df.groupby('grupo_prob').agg(\n",
    "    prob_predita_media=('prob_predita', 'mean'),\n",
    "    taxa_eventos_observada=('flag_doente', 'mean')\n",
    ").reset_index()\n",
    "\n",
    "# Visualizando a tabela de calibragem\n",
    "print(calibragem_df)\n",
    "\n",
    "# Comparação gráfica entre probabilidade predita e taxa de eventos observada\n",
    "plt.figure(figsize=(8, 6))\n",
    "\n",
    "# Linha para a probabilidade predita média\n",
    "plt.plot(calibragem_df['grupo_prob'], calibragem_df['prob_predita_media'], marker='o', label='Probabilidade Preditiva Média', color='blue')\n",
    "\n",
    "# Linha para a taxa de eventos observada\n",
    "plt.plot(calibragem_df['grupo_prob'], calibragem_df['taxa_eventos_observada'], marker='o', label='Taxa de Eventos Observada', color='red')\n",
    "\n",
    "# Título e eixos\n",
    "plt.title('Calibragem do Modelo: Probabilidade Preditiva vs. Taxa de Eventos Observada')\n",
    "plt.xlabel('Grupo de Probabilidade Preditiva')\n",
    "plt.ylabel('Taxa')\n",
    "plt.legend()\n",
    "plt.grid(True)\n",
    "\n",
    "# Exibir o gráfico\n",
    "plt.show()"
   ]
  },
  {
   "cell_type": "markdown",
   "metadata": {},
   "source": [
    "5. Avalie o seu modelo quanto a discriminação calculando acurácia, GINI e KS."
   ]
  },
  {
   "cell_type": "code",
   "execution_count": null,
   "metadata": {},
   "outputs": [],
   "source": []
  },
  {
   "cell_type": "code",
   "execution_count": 44,
   "metadata": {
    "tags": []
   },
   "outputs": [
    {
     "name": "stdout",
     "output_type": "stream",
     "text": [
      "Acurácia: 0.7954\n",
      "GINI: 0.7039\n",
      "KS: 0.5930\n"
     ]
    }
   ],
   "source": [
    "# Prevendo o rótulo de doença com base em um limiar de 0.5\n",
    "df['predito'] = (df['prob_predita'] >= 0.5).astype(int)\n",
    "\n",
    "# Calculando a acurácia\n",
    "acuracia = accuracy_score(df['flag_doente'], df['predito'])\n",
    "print(f'Acurácia: {acuracia:.4f}')\n",
    "\n",
    "# Calculando o AUC (Área sob a curva ROC)\n",
    "auc = roc_auc_score(df['flag_doente'], df['prob_predita'])\n",
    "\n",
    "# Calculando o GINI (GINI = 2*AUC - 1)\n",
    "gini = 2 * auc - 1\n",
    "print(f'GINI: {gini:.4f}')\n",
    "\n",
    "# Separar os dados de probabilidade predita para doentes e saudáveis\n",
    "doentes = df[df['flag_doente'] == 1]['prob_predita']\n",
    "saudaveis = df[df['flag_doente'] == 0]['prob_predita']\n",
    "\n",
    "# Calculando o KS (Kolmogorov-Smirnov)\n",
    "ks_stat, p_value = stats.ks_2samp(doentes, saudaveis)\n",
    "print(f'KS: {ks_stat:.4f}')"
   ]
  },
  {
   "cell_type": "markdown",
   "metadata": {},
   "source": [
    "6. tente melhorar o modelo obtido, por exemplo inserindo ou removendo variáveis.  \n",
    "    Avalie as características do seu modelo (calibragem e acurácia)."
   ]
  },
  {
   "cell_type": "code",
   "execution_count": 50,
   "metadata": {},
   "outputs": [
    {
     "name": "stdout",
     "output_type": "stream",
     "text": [
      "Optimization terminated successfully.\n",
      "         Current function value: 0.510076\n",
      "         Iterations 6\n",
      "                           Logit Regression Results                           \n",
      "==============================================================================\n",
      "Dep. Variable:            flag_doente   No. Observations:                  303\n",
      "Model:                          Logit   Df Residuals:                      298\n",
      "Method:                           MLE   Df Model:                            4\n",
      "Date:                Tue, 17 Sep 2024   Pseudo R-squ.:                  0.2605\n",
      "Time:                        14:34:07   Log-Likelihood:                -154.55\n",
      "converged:                       True   LL-Null:                       -208.99\n",
      "Covariance Type:            nonrobust   LLR p-value:                 1.264e-22\n",
      "==============================================================================\n",
      "                 coef    std err          z      P>|z|      [0.025      0.975]\n",
      "------------------------------------------------------------------------------\n",
      "const        -11.1167      1.608     -6.915      0.000     -14.267      -7.966\n",
      "sex            1.8021      0.331      5.444      0.000       1.153       2.451\n",
      "cp             1.1403      0.169      6.739      0.000       0.809       1.472\n",
      "trestbps       0.0214      0.008      2.600      0.009       0.005       0.037\n",
      "age            0.0582      0.017      3.348      0.001       0.024       0.092\n",
      "==============================================================================\n"
     ]
    }
   ],
   "source": [
    "# Preparando as variáveis\n",
    "X = df[['sex', 'cp', 'trestbps', 'age']]\n",
    "y = df['flag_doente']\n",
    "\n",
    "# Adicionando uma constante para o modelo\n",
    "X = sm.add_constant(X)\n",
    "\n",
    "# Ajustando o modelo de regressão logística\n",
    "modelo = sm.Logit(y, X)\n",
    "resultado = modelo.fit()\n",
    "\n",
    "# Resumo dos resultados\n",
    "print(resultado.summary())"
   ]
  },
  {
   "cell_type": "code",
   "execution_count": null,
   "metadata": {},
   "outputs": [],
   "source": []
  }
 ],
 "metadata": {
  "kernelspec": {
   "display_name": "Python 3 (ipykernel)",
   "language": "python",
   "name": "python3"
  },
  "language_info": {
   "codemirror_mode": {
    "name": "ipython",
    "version": 3
   },
   "file_extension": ".py",
   "mimetype": "text/x-python",
   "name": "python",
   "nbconvert_exporter": "python",
   "pygments_lexer": "ipython3",
   "version": "3.11.7"
  }
 },
 "nbformat": 4,
 "nbformat_minor": 4
}
