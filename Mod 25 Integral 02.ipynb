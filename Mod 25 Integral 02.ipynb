{
 "cells": [
  {
   "cell_type": "markdown",
   "metadata": {},
   "source": [
    "# Cálculo - Tarefa 02\n",
    "\n",
    "1- Calcule de forma numérica a integral da função $x^3$ avaliada entre os pontos $1$ e $2$. Identifique o número de retângulos que você usou.  \n",
    "2- Calcule essa área de forma analítica."
   ]
  },
  {
   "cell_type": "markdown",
   "metadata": {},
   "source": [
    "Cálculo numérico da integral de \n",
    "𝑥\n",
    "3\n",
    "x \n",
    "3\n",
    "  usando soma de Riemann\n",
    "Para calcular a integral numericamente, dividimos o intervalo \n",
    "[\n",
    "1\n",
    ",\n",
    "2\n",
    "]\n",
    "[1,2] em subintervalos e usamos retângulos para aproximar a área sob a curva \n",
    "𝑓(𝑥)=𝑥3\n",
    "f(x)=x 3.\n",
    "\n",
    "Configuração:\n",
    "𝑓\n",
    "(\n",
    "𝑥\n",
    ")\n",
    "=\n",
    "𝑥\n",
    "3\n",
    "f(x)=x \n",
    "3\n",
    " \n",
    "Intervalo: \n",
    "[\n",
    "1\n",
    ",\n",
    "2\n",
    "]\n",
    "[1,2]\n",
    "𝑛\n",
    "n: Número de retângulos (vamos usar \n",
    "𝑛\n",
    "=\n",
    "100\n",
    "n=100 para boa precisão).\n",
    "Fórmula:\n",
    "A soma de Riemann é dada por:\n",
    "\n",
    "Soma de Riemann\n",
    "=\n",
    "∑\n",
    "𝑖\n",
    "=\n",
    "1\n",
    "𝑛\n",
    "𝑓\n",
    "(\n",
    "𝑥\n",
    "𝑖\n",
    "∗\n",
    ")\n",
    "Δ\n",
    "𝑥\n",
    "Soma de Riemann= \n",
    "i=1\n",
    "∑\n",
    "n\n",
    "​\n",
    " f(x \n",
    "i\n",
    "∗\n",
    "​\n",
    " )Δx\n",
    "Onde:\n",
    "\n",
    "Δ\n",
    "𝑥\n",
    "=\n",
    "𝑏\n",
    "−\n",
    "𝑎\n",
    "𝑛\n",
    "Δx= \n",
    "n\n",
    "b−a\n",
    "​\n",
    " : largura de cada retângulo.\n",
    "𝑥\n",
    "𝑖\n",
    "∗\n",
    "=\n",
    "𝑎\n",
    "+\n",
    "𝑖\n",
    "⋅\n",
    "Δ\n",
    "𝑥\n",
    "x \n",
    "i\n",
    "∗\n",
    "​\n",
    " =a+i⋅Δx: ponto dentro do subintervalo usado para a altura (vamos usar o ponto médio).\n",
    "Vamos calcular isso numericamente."
   ]
  },
  {
   "cell_type": "code",
   "execution_count": 14,
   "metadata": {
    "tags": []
   },
   "outputs": [
    {
     "data": {
      "text/plain": [
       "3.7499624999999996"
      ]
     },
     "execution_count": 14,
     "metadata": {},
     "output_type": "execute_result"
    }
   ],
   "source": [
    "import numpy as np\n",
    "\n",
    "# Função\n",
    "f = lambda x: x**3\n",
    "\n",
    "# Intervalo e número de retângulos\n",
    "a, b = 1, 2\n",
    "n = 100  # Número de retângulos\n",
    "dx = (b - a) / n  # Largura dos retângulos\n",
    "\n",
    "# Pontos médios\n",
    "x_mid = np.linspace(a + dx / 2, b - dx / 2, n)\n",
    "\n",
    "# Soma de Riemann\n",
    "area_numerica = np.sum(f(x_mid) * dx)\n",
    "area_numerica"
   ]
  },
  {
   "cell_type": "markdown",
   "metadata": {},
   "source": [
    "<span style=\"color:red;\">Resultado:\n",
    "A área numérica é aproximadamente 3.7500 usando 100 retângulos.</span>\n",
    "\n"
   ]
  },
  {
   "cell_type": "code",
   "execution_count": 3,
   "metadata": {
    "tags": []
   },
   "outputs": [
    {
     "data": {
      "text/latex": [
       "$\\displaystyle \\frac{15}{4}$"
      ],
      "text/plain": [
       "15/4"
      ]
     },
     "execution_count": 3,
     "metadata": {},
     "output_type": "execute_result"
    }
   ],
   "source": [
    "from sympy import symbols, integrate\n",
    "\n",
    "# Define a variável simbólica\n",
    "x = symbols('x')\n",
    "\n",
    "# Define a função\n",
    "f = x**3\n",
    "\n",
    "# Calcula a integral definida\n",
    "area_analitica = integrate(f, (x, 1, 2))\n",
    "\n",
    "# Resultado\n",
    "area_analitica"
   ]
  },
  {
   "cell_type": "code",
   "execution_count": 5,
   "metadata": {
    "tags": []
   },
   "outputs": [
    {
     "data": {
      "text/latex": [
       "$\\displaystyle 3.75$"
      ],
      "text/plain": [
       "3.75000000000000"
      ]
     },
     "execution_count": 5,
     "metadata": {},
     "output_type": "execute_result"
    }
   ],
   "source": [
    "area_decimal = area_analitica.evalf()\n",
    "area_decimal"
   ]
  },
  {
   "cell_type": "markdown",
   "metadata": {},
   "source": [
    "<span style=\"color:red;\">Comparação dos resultados:  \n",
    "Numérico: \n",
    "3.7500\n",
    "3.7500 com \n",
    "𝑛\n",
    "=\n",
    "100\n",
    "n=100 retângulos.  \n",
    "Analítico: \n",
    "3.75\n",
    "3.75 (exato).  \n",
    "Ambos os métodos concordam, mostrando que a aproximação numérica é precisa com \n",
    "𝑛\n",
    "=\n",
    "100\n",
    "n=100.</span>"
   ]
  },
  {
   "cell_type": "code",
   "execution_count": null,
   "metadata": {},
   "outputs": [],
   "source": []
  }
 ],
 "metadata": {
  "kernelspec": {
   "display_name": "Python 3 (ipykernel)",
   "language": "python",
   "name": "python3"
  },
  "language_info": {
   "codemirror_mode": {
    "name": "ipython",
    "version": 3
   },
   "file_extension": ".py",
   "mimetype": "text/x-python",
   "name": "python",
   "nbconvert_exporter": "python",
   "pygments_lexer": "ipython3",
   "version": "3.11.7"
  },
  "toc": {
   "base_numbering": 1,
   "nav_menu": {},
   "number_sections": true,
   "sideBar": true,
   "skip_h1_title": true,
   "title_cell": "Índice",
   "title_sidebar": "Conteúdo",
   "toc_cell": false,
   "toc_position": {},
   "toc_section_display": true,
   "toc_window_display": false
  },
  "varInspector": {
   "cols": {
    "lenName": 16,
    "lenType": 16,
    "lenVar": 40
   },
   "kernels_config": {
    "python": {
     "delete_cmd_postfix": "",
     "delete_cmd_prefix": "del ",
     "library": "var_list.py",
     "varRefreshCmd": "print(var_dic_list())"
    },
    "r": {
     "delete_cmd_postfix": ") ",
     "delete_cmd_prefix": "rm(",
     "library": "var_list.r",
     "varRefreshCmd": "cat(var_dic_list()) "
    }
   },
   "types_to_exclude": [
    "module",
    "function",
    "builtin_function_or_method",
    "instance",
    "_Feature"
   ],
   "window_display": false
  }
 },
 "nbformat": 4,
 "nbformat_minor": 4
}
