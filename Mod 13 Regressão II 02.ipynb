{
 "cells": [
  {
   "cell_type": "markdown",
   "metadata": {},
   "source": [
    "# EBAC - Regressão II - regressão múltipla\n",
    "\n",
    "## Tarefa I"
   ]
  },
  {
   "cell_type": "markdown",
   "metadata": {},
   "source": [
    "#### Previsão de renda II\n",
    "\n",
    "Vamos continuar trabalhando com a base 'previsao_de_renda.csv', que é a base do seu próximo projeto. Vamos usar os recursos que vimos até aqui nesta base.\n",
    "\n",
    "|variavel|descrição|\n",
    "|-|-|\n",
    "|data_ref                | Data de referência de coleta das variáveis |\n",
    "|index                   | Código de identificação do cliente|\n",
    "|sexo                    | Sexo do cliente|\n",
    "|posse_de_veiculo        | Indica se o cliente possui veículo|\n",
    "|posse_de_imovel         | Indica se o cliente possui imóvel|\n",
    "|qtd_filhos              | Quantidade de filhos do cliente|\n",
    "|tipo_renda              | Tipo de renda do cliente|\n",
    "|educacao                | Grau de instrução do cliente|\n",
    "|estado_civil            | Estado civil do cliente|\n",
    "|tipo_residencia         | Tipo de residência do cliente (própria, alugada etc)|\n",
    "|idade                   | Idade do cliente|\n",
    "|tempo_emprego           | Tempo no emprego atual|\n",
    "|qt_pessoas_residencia   | Quantidade de pessoas que moram na residência|\n",
    "|renda                   | Renda em reais|"
   ]
  },
  {
   "cell_type": "code",
   "execution_count": 98,
   "metadata": {},
   "outputs": [],
   "source": [
    "import pandas as pd\n",
    "import statsmodels.api as sm\n",
    "import statsmodels.formula.api as smf\n",
    "import patsy\n",
    "import numpy as np\n",
    "\n",
    "from patsy import dmatrices\n",
    "from sklearn.tree import DecisionTreeRegressor\n",
    "from sklearn.model_selection import train_test_split\n",
    "from sklearn.linear_model import Lasso\n",
    "from sklearn.linear_model import Ridge\n",
    "from sklearn.metrics import r2_score"
   ]
  },
  {
   "cell_type": "code",
   "execution_count": 76,
   "metadata": {},
   "outputs": [],
   "source": [
    "df = pd.read_csv('previsao_de_renda.csv')"
   ]
  },
  {
   "cell_type": "code",
   "execution_count": 77,
   "metadata": {},
   "outputs": [
    {
     "name": "stdout",
     "output_type": "stream",
     "text": [
      "<class 'pandas.core.frame.DataFrame'>\n",
      "RangeIndex: 15000 entries, 0 to 14999\n",
      "Data columns (total 15 columns):\n",
      " #   Column                 Non-Null Count  Dtype  \n",
      "---  ------                 --------------  -----  \n",
      " 0   Unnamed: 0             15000 non-null  int64  \n",
      " 1   data_ref               15000 non-null  object \n",
      " 2   id_cliente             15000 non-null  int64  \n",
      " 3   sexo                   15000 non-null  object \n",
      " 4   posse_de_veiculo       15000 non-null  bool   \n",
      " 5   posse_de_imovel        15000 non-null  bool   \n",
      " 6   qtd_filhos             15000 non-null  int64  \n",
      " 7   tipo_renda             15000 non-null  object \n",
      " 8   educacao               15000 non-null  object \n",
      " 9   estado_civil           15000 non-null  object \n",
      " 10  tipo_residencia        15000 non-null  object \n",
      " 11  idade                  15000 non-null  int64  \n",
      " 12  tempo_emprego          12427 non-null  float64\n",
      " 13  qt_pessoas_residencia  15000 non-null  float64\n",
      " 14  renda                  15000 non-null  float64\n",
      "dtypes: bool(2), float64(3), int64(4), object(6)\n",
      "memory usage: 1.5+ MB\n"
     ]
    }
   ],
   "source": [
    "df.info()"
   ]
  },
  {
   "cell_type": "code",
   "execution_count": 78,
   "metadata": {},
   "outputs": [
    {
     "data": {
      "text/html": [
       "<div>\n",
       "<style scoped>\n",
       "    .dataframe tbody tr th:only-of-type {\n",
       "        vertical-align: middle;\n",
       "    }\n",
       "\n",
       "    .dataframe tbody tr th {\n",
       "        vertical-align: top;\n",
       "    }\n",
       "\n",
       "    .dataframe thead th {\n",
       "        text-align: right;\n",
       "    }\n",
       "</style>\n",
       "<table border=\"1\" class=\"dataframe\">\n",
       "  <thead>\n",
       "    <tr style=\"text-align: right;\">\n",
       "      <th></th>\n",
       "      <th>Unnamed: 0</th>\n",
       "      <th>data_ref</th>\n",
       "      <th>id_cliente</th>\n",
       "      <th>sexo</th>\n",
       "      <th>posse_de_veiculo</th>\n",
       "      <th>posse_de_imovel</th>\n",
       "      <th>qtd_filhos</th>\n",
       "      <th>tipo_renda</th>\n",
       "      <th>educacao</th>\n",
       "      <th>estado_civil</th>\n",
       "      <th>tipo_residencia</th>\n",
       "      <th>idade</th>\n",
       "      <th>tempo_emprego</th>\n",
       "      <th>qt_pessoas_residencia</th>\n",
       "      <th>renda</th>\n",
       "    </tr>\n",
       "  </thead>\n",
       "  <tbody>\n",
       "    <tr>\n",
       "      <th>0</th>\n",
       "      <td>0</td>\n",
       "      <td>2015-01-01</td>\n",
       "      <td>15056</td>\n",
       "      <td>F</td>\n",
       "      <td>False</td>\n",
       "      <td>True</td>\n",
       "      <td>0</td>\n",
       "      <td>Empresário</td>\n",
       "      <td>Secundário</td>\n",
       "      <td>Solteiro</td>\n",
       "      <td>Casa</td>\n",
       "      <td>26</td>\n",
       "      <td>6.602740</td>\n",
       "      <td>1.0</td>\n",
       "      <td>8060.34</td>\n",
       "    </tr>\n",
       "    <tr>\n",
       "      <th>1</th>\n",
       "      <td>1</td>\n",
       "      <td>2015-01-01</td>\n",
       "      <td>9968</td>\n",
       "      <td>M</td>\n",
       "      <td>True</td>\n",
       "      <td>True</td>\n",
       "      <td>0</td>\n",
       "      <td>Assalariado</td>\n",
       "      <td>Superior completo</td>\n",
       "      <td>Casado</td>\n",
       "      <td>Casa</td>\n",
       "      <td>28</td>\n",
       "      <td>7.183562</td>\n",
       "      <td>2.0</td>\n",
       "      <td>1852.15</td>\n",
       "    </tr>\n",
       "    <tr>\n",
       "      <th>2</th>\n",
       "      <td>2</td>\n",
       "      <td>2015-01-01</td>\n",
       "      <td>4312</td>\n",
       "      <td>F</td>\n",
       "      <td>True</td>\n",
       "      <td>True</td>\n",
       "      <td>0</td>\n",
       "      <td>Empresário</td>\n",
       "      <td>Superior completo</td>\n",
       "      <td>Casado</td>\n",
       "      <td>Casa</td>\n",
       "      <td>35</td>\n",
       "      <td>0.838356</td>\n",
       "      <td>2.0</td>\n",
       "      <td>2253.89</td>\n",
       "    </tr>\n",
       "    <tr>\n",
       "      <th>3</th>\n",
       "      <td>3</td>\n",
       "      <td>2015-01-01</td>\n",
       "      <td>10639</td>\n",
       "      <td>F</td>\n",
       "      <td>False</td>\n",
       "      <td>True</td>\n",
       "      <td>1</td>\n",
       "      <td>Servidor público</td>\n",
       "      <td>Superior completo</td>\n",
       "      <td>Casado</td>\n",
       "      <td>Casa</td>\n",
       "      <td>30</td>\n",
       "      <td>4.846575</td>\n",
       "      <td>3.0</td>\n",
       "      <td>6600.77</td>\n",
       "    </tr>\n",
       "    <tr>\n",
       "      <th>4</th>\n",
       "      <td>4</td>\n",
       "      <td>2015-01-01</td>\n",
       "      <td>7064</td>\n",
       "      <td>M</td>\n",
       "      <td>True</td>\n",
       "      <td>False</td>\n",
       "      <td>0</td>\n",
       "      <td>Assalariado</td>\n",
       "      <td>Secundário</td>\n",
       "      <td>Solteiro</td>\n",
       "      <td>Governamental</td>\n",
       "      <td>33</td>\n",
       "      <td>4.293151</td>\n",
       "      <td>1.0</td>\n",
       "      <td>6475.97</td>\n",
       "    </tr>\n",
       "  </tbody>\n",
       "</table>\n",
       "</div>"
      ],
      "text/plain": [
       "   Unnamed: 0    data_ref  id_cliente sexo  posse_de_veiculo  posse_de_imovel  \\\n",
       "0           0  2015-01-01       15056    F             False             True   \n",
       "1           1  2015-01-01        9968    M              True             True   \n",
       "2           2  2015-01-01        4312    F              True             True   \n",
       "3           3  2015-01-01       10639    F             False             True   \n",
       "4           4  2015-01-01        7064    M              True            False   \n",
       "\n",
       "   qtd_filhos        tipo_renda           educacao estado_civil  \\\n",
       "0           0        Empresário         Secundário     Solteiro   \n",
       "1           0       Assalariado  Superior completo       Casado   \n",
       "2           0        Empresário  Superior completo       Casado   \n",
       "3           1  Servidor público  Superior completo       Casado   \n",
       "4           0       Assalariado         Secundário     Solteiro   \n",
       "\n",
       "  tipo_residencia  idade  tempo_emprego  qt_pessoas_residencia    renda  \n",
       "0            Casa     26       6.602740                    1.0  8060.34  \n",
       "1            Casa     28       7.183562                    2.0  1852.15  \n",
       "2            Casa     35       0.838356                    2.0  2253.89  \n",
       "3            Casa     30       4.846575                    3.0  6600.77  \n",
       "4   Governamental     33       4.293151                    1.0  6475.97  "
      ]
     },
     "execution_count": 78,
     "metadata": {},
     "output_type": "execute_result"
    }
   ],
   "source": [
    "df.head()"
   ]
  },
  {
   "cell_type": "code",
   "execution_count": 79,
   "metadata": {},
   "outputs": [
    {
     "name": "stdout",
     "output_type": "stream",
     "text": [
      "Index(['Unnamed: 0', 'data_ref', 'id_cliente', 'sexo', 'posse_de_veiculo',\n",
      "       'posse_de_imovel', 'qtd_filhos', 'tipo_renda', 'educacao',\n",
      "       'estado_civil', 'tipo_residencia', 'idade', 'tempo_emprego',\n",
      "       'qt_pessoas_residencia', 'renda'],\n",
      "      dtype='object')\n"
     ]
    }
   ],
   "source": [
    "print(df.columns)"
   ]
  },
  {
   "cell_type": "code",
   "execution_count": 80,
   "metadata": {},
   "outputs": [],
   "source": [
    "#Apagando colunas\n",
    "df = df.drop(columns=['Unnamed: 0', 'data_ref', 'id_cliente'])"
   ]
  },
  {
   "cell_type": "code",
   "execution_count": 81,
   "metadata": {},
   "outputs": [
    {
     "name": "stdout",
     "output_type": "stream",
     "text": [
      "posse_de_veiculo                    bool\n",
      "posse_de_imovel                     bool\n",
      "qtd_filhos                         int64\n",
      "idade                              int64\n",
      "tempo_emprego                    float64\n",
      "qt_pessoas_residencia            float64\n",
      "renda                            float64\n",
      "sexo_F                              bool\n",
      "sexo_M                              bool\n",
      "tipo_renda_Assalariado              bool\n",
      "tipo_renda_Bolsista                 bool\n",
      "tipo_renda_Empresário               bool\n",
      "tipo_renda_Pensionista              bool\n",
      "tipo_renda_Servidor público         bool\n",
      "educacao_Primário                   bool\n",
      "educacao_Pós graduação              bool\n",
      "educacao_Secundário                 bool\n",
      "educacao_Superior completo          bool\n",
      "educacao_Superior incompleto        bool\n",
      "estado_civil_Casado                 bool\n",
      "estado_civil_Separado               bool\n",
      "estado_civil_Solteiro               bool\n",
      "estado_civil_União                  bool\n",
      "estado_civil_Viúvo                  bool\n",
      "tipo_residencia_Aluguel             bool\n",
      "tipo_residencia_Casa                bool\n",
      "tipo_residencia_Com os pais         bool\n",
      "tipo_residencia_Comunitário         bool\n",
      "tipo_residencia_Estúdio             bool\n",
      "tipo_residencia_Governamental       bool\n",
      "dtype: object\n"
     ]
    }
   ],
   "source": [
    "# Transforme variáveis categóricas em dummies\n",
    "df_dummies = pd.get_dummies(df, drop_first=False)\n",
    "\n",
    "# Verifique se todas as colunas agora são numéricas\n",
    "print(df_dummies.dtypes)"
   ]
  },
  {
   "cell_type": "code",
   "execution_count": 82,
   "metadata": {},
   "outputs": [],
   "source": [
    "df_dummies = df_dummies.dropna()"
   ]
  },
  {
   "cell_type": "code",
   "execution_count": 83,
   "metadata": {},
   "outputs": [
    {
     "data": {
      "text/plain": [
       "posse_de_veiculo                    bool\n",
       "posse_de_imovel                     bool\n",
       "qtd_filhos                         int64\n",
       "idade                              int64\n",
       "tempo_emprego                    float64\n",
       "qt_pessoas_residencia            float64\n",
       "renda                            float64\n",
       "sexo_F                              bool\n",
       "sexo_M                              bool\n",
       "tipo_renda_Assalariado              bool\n",
       "tipo_renda_Bolsista                 bool\n",
       "tipo_renda_Empresário               bool\n",
       "tipo_renda_Pensionista              bool\n",
       "tipo_renda_Servidor público         bool\n",
       "educacao_Primário                   bool\n",
       "educacao_Pós graduação              bool\n",
       "educacao_Secundário                 bool\n",
       "educacao_Superior completo          bool\n",
       "educacao_Superior incompleto        bool\n",
       "estado_civil_Casado                 bool\n",
       "estado_civil_Separado               bool\n",
       "estado_civil_Solteiro               bool\n",
       "estado_civil_União                  bool\n",
       "estado_civil_Viúvo                  bool\n",
       "tipo_residencia_Aluguel             bool\n",
       "tipo_residencia_Casa                bool\n",
       "tipo_residencia_Com os pais         bool\n",
       "tipo_residencia_Comunitário         bool\n",
       "tipo_residencia_Estúdio             bool\n",
       "tipo_residencia_Governamental       bool\n",
       "dtype: object"
      ]
     },
     "execution_count": 83,
     "metadata": {},
     "output_type": "execute_result"
    }
   ],
   "source": [
    "df_dummies.dtypes"
   ]
  },
  {
   "cell_type": "markdown",
   "metadata": {},
   "source": [
    "1. Separe a base em treinamento e teste (25% para teste, 75% para treinamento).\n",
    "2. Rode uma regularização *ridge* com alpha = [0, 0.001, 0.005, 0.01, 0.05, 0.1] e avalie o $R^2$ na base de testes. Qual o melhor modelo?\n",
    "3. Faça o mesmo que no passo 2, com uma regressão *LASSO*. Qual método chega a um melhor resultado?\n",
    "4. Rode um modelo *stepwise*. Avalie o $R^2$ na vase de testes. Qual o melhor resultado?\n",
    "5. Compare os parâmetros e avalie eventuais diferenças. Qual modelo você acha o melhor de todos?\n",
    "6. Partindo dos modelos que você ajustou, tente melhorar o $R^2$ na base de testes. Use a criatividade, veja se consegue inserir alguma transformação ou combinação de variáveis.\n",
    "7. Ajuste uma árvore de regressão e veja se consegue um $R^2$ melhor com ela."
   ]
  },
  {
   "cell_type": "code",
   "execution_count": 84,
   "metadata": {},
   "outputs": [],
   "source": [
    "# Ajuste a coluna de acordo com os nomes presentes no seu dataset\n",
    "X = df_dummies.drop(columns=\"renda\")\n",
    "y = df_dummies[\"renda\"]"
   ]
  },
  {
   "cell_type": "code",
   "execution_count": 85,
   "metadata": {},
   "outputs": [],
   "source": [
    "#Separação dos dados em treinamento (75%) e teste (25%)\n",
    "X_train, X_test, y_train, y_test = train_test_split(X, y, test_size=0.25, random_state=42)"
   ]
  },
  {
   "cell_type": "code",
   "execution_count": 86,
   "metadata": {},
   "outputs": [
    {
     "name": "stdout",
     "output_type": "stream",
     "text": [
      "Alpha: 0, R^2: 0.29788795819542546\n",
      "Alpha: 0.001, R^2: 0.2979664398824702\n",
      "Alpha: 0.005, R^2: 0.2979665922694845\n",
      "Alpha: 0.01, R^2: 0.2979667826039293\n",
      "Alpha: 0.05, R^2: 0.2979682993456856\n",
      "Alpha: 0.1, R^2: 0.29797018062542413\n",
      "O melhor modelo tem alpha = 0.1 com R^2 = 0.29797018062542413\n"
     ]
    }
   ],
   "source": [
    "# Com regularização ridge com alpha\n",
    "alphas = [0, 0.001, 0.005, 0.01, 0.05, 0.1]\n",
    "best_r2 = float('-inf')\n",
    "best_alpha = None\n",
    "\n",
    "for alpha in alphas:\n",
    "    ridge = Ridge(alpha=alpha)\n",
    "    ridge.fit(X_train, y_train)\n",
    "    y_pred = ridge.predict(X_test)\n",
    "    r2 = r2_score(y_test, y_pred)\n",
    "    print(f'Alpha: {alpha}, R^2: {r2}')\n",
    "\n",
    "    if r2 > best_r2:\n",
    "        best_r2 = r2\n",
    "        best_alpha = alpha\n",
    "\n",
    "print(f\"O melhor modelo tem alpha = {best_alpha} com R^2 = {best_r2}\")"
   ]
  },
  {
   "cell_type": "code",
   "execution_count": 87,
   "metadata": {},
   "outputs": [
    {
     "name": "stderr",
     "output_type": "stream",
     "text": [
      "C:\\Users\\Joel\\AppData\\Local\\Temp\\ipykernel_5156\\522920222.py:7: UserWarning: With alpha=0, this algorithm does not converge well. You are advised to use the LinearRegression estimator\n",
      "  lasso.fit(X_train, y_train)\n",
      "C:\\Users\\Joel\\anaconda3\\Lib\\site-packages\\sklearn\\linear_model\\_coordinate_descent.py:631: UserWarning: Coordinate descent with no regularization may lead to unexpected results and is discouraged.\n",
      "  model = cd_fast.enet_coordinate_descent(\n",
      "C:\\Users\\Joel\\anaconda3\\Lib\\site-packages\\sklearn\\linear_model\\_coordinate_descent.py:631: ConvergenceWarning: Objective did not converge. You might want to increase the number of iterations, check the scale of the features or consider increasing regularisation. Duality gap: 3.036e+11, tolerance: 8.060e+07 Linear regression models with null weight for the l1 regularization term are more efficiently fitted using one of the solvers implemented in sklearn.linear_model.Ridge/RidgeCV instead.\n",
      "  model = cd_fast.enet_coordinate_descent(\n"
     ]
    },
    {
     "name": "stdout",
     "output_type": "stream",
     "text": [
      "Alpha: 0, R^2: 0.2979667288792085\n",
      "Alpha: 0.001, R^2: 0.297967209660144\n"
     ]
    },
    {
     "name": "stderr",
     "output_type": "stream",
     "text": [
      "C:\\Users\\Joel\\anaconda3\\Lib\\site-packages\\sklearn\\linear_model\\_coordinate_descent.py:631: ConvergenceWarning: Objective did not converge. You might want to increase the number of iterations, check the scale of the features or consider increasing regularisation. Duality gap: 2.859e+11, tolerance: 8.060e+07\n",
      "  model = cd_fast.enet_coordinate_descent(\n",
      "C:\\Users\\Joel\\anaconda3\\Lib\\site-packages\\sklearn\\linear_model\\_coordinate_descent.py:631: ConvergenceWarning: Objective did not converge. You might want to increase the number of iterations, check the scale of the features or consider increasing regularisation. Duality gap: 2.280e+11, tolerance: 8.060e+07\n",
      "  model = cd_fast.enet_coordinate_descent(\n"
     ]
    },
    {
     "name": "stdout",
     "output_type": "stream",
     "text": [
      "Alpha: 0.005, R^2: 0.29796908589432314\n",
      "Alpha: 0.01, R^2: 0.2979714395605716\n"
     ]
    },
    {
     "name": "stderr",
     "output_type": "stream",
     "text": [
      "C:\\Users\\Joel\\anaconda3\\Lib\\site-packages\\sklearn\\linear_model\\_coordinate_descent.py:631: ConvergenceWarning: Objective did not converge. You might want to increase the number of iterations, check the scale of the features or consider increasing regularisation. Duality gap: 1.770e+11, tolerance: 8.060e+07\n",
      "  model = cd_fast.enet_coordinate_descent(\n",
      "C:\\Users\\Joel\\anaconda3\\Lib\\site-packages\\sklearn\\linear_model\\_coordinate_descent.py:631: ConvergenceWarning: Objective did not converge. You might want to increase the number of iterations, check the scale of the features or consider increasing regularisation. Duality gap: 6.818e+10, tolerance: 8.060e+07\n",
      "  model = cd_fast.enet_coordinate_descent(\n"
     ]
    },
    {
     "name": "stdout",
     "output_type": "stream",
     "text": [
      "Alpha: 0.05, R^2: 0.2979901829552367\n",
      "Alpha: 0.1, R^2: 0.29800172533121116\n",
      "O melhor modelo LASSO tem alpha = 0.1 com R^2 = 0.29800172533121116\n"
     ]
    },
    {
     "name": "stderr",
     "output_type": "stream",
     "text": [
      "C:\\Users\\Joel\\anaconda3\\Lib\\site-packages\\sklearn\\linear_model\\_coordinate_descent.py:631: ConvergenceWarning: Objective did not converge. You might want to increase the number of iterations, check the scale of the features or consider increasing regularisation. Duality gap: 8.642e+10, tolerance: 8.060e+07\n",
      "  model = cd_fast.enet_coordinate_descent(\n"
     ]
    }
   ],
   "source": [
    "#Com regressão LASSO\n",
    "best_r2_lasso = float(\"-inf\")\n",
    "best_alpha_lasso = None\n",
    "\n",
    "for alpha in alphas:\n",
    "    lasso = Lasso(alpha=alpha)\n",
    "    lasso.fit(X_train, y_train)\n",
    "    y_pred = lasso.predict(X_test)\n",
    "    r2 = r2_score(y_test, y_pred)\n",
    "    print(f\"Alpha: {alpha}, R^2: {r2}\")\n",
    "\n",
    "    if r2 > best_r2_lasso:\n",
    "        best_r2_lasso = r2\n",
    "        best_alpha_lasso = alpha\n",
    "\n",
    "print(f\"O melhor modelo LASSO tem alpha = {best_alpha_lasso} com R^2 = {best_r2_lasso}\")"
   ]
  },
  {
   "cell_type": "code",
   "execution_count": 88,
   "metadata": {},
   "outputs": [],
   "source": [
    "X = X.apply(pd.to_numeric, errors='coerce')\n",
    "X = X.astype(int)"
   ]
  },
  {
   "cell_type": "code",
   "execution_count": 89,
   "metadata": {},
   "outputs": [],
   "source": [
    "def stepwise_selection(X, y, \n",
    "                       initial_list=None, \n",
    "                       threshold_in=0.01, \n",
    "                       threshold_out=0.05, \n",
    "                       verbose=True):\n",
    "    \"\"\" \n",
    "    Realiza uma seleção de variáveis para frente e para trás\n",
    "    baseada no p-valor do `statsmodels.api.OLS`.\n",
    "    \n",
    "    Argumentos:\n",
    "        X - pandas.DataFrame com as variáveis candidatas\n",
    "        y - lista ou array com o alvo\n",
    "        initial_list - lista de variáveis para começar (nomes das colunas de X)\n",
    "        threshold_in - incluir uma variável se seu p-valor < threshold_in\n",
    "        threshold_out - excluir uma variável se seu p-valor > threshold_out\n",
    "        verbose - se deve imprimir a sequência de inclusões e exclusões\n",
    "    \n",
    "    Retorna: lista de variáveis selecionadas\n",
    "    Sempre defina threshold_in < threshold_out para evitar loop infinito.\n",
    "    Veja https://en.wikipedia.org/wiki/Stepwise_regression para mais detalhes\n",
    "    \"\"\"\n",
    "    if initial_list is None:\n",
    "        initial_list = []\n",
    "    \n",
    "    included = list(initial_list)\n",
    "    \n",
    "    while True:\n",
    "        changed = False\n",
    "        \n",
    "        # Forward step\n",
    "        excluded = list(set(X.columns) - set(included))\n",
    "        new_pval = pd.Series(index=excluded, dtype=np.float64)\n",
    "        for new_column in excluded:\n",
    "            if new_column in X.columns:  # Verificação adicional\n",
    "                model = sm.OLS(y, sm.add_constant(X[included + [new_column]])).fit()\n",
    "                new_pval[new_column] = model.pvalues[new_column]\n",
    "            else:\n",
    "                new_pval[new_column] = np.nan  # Atribua NaN se a coluna não existir\n",
    "        best_pval = new_pval.min()\n",
    "        if best_pval < threshold_in:\n",
    "            best_feature = new_pval.idxmin()\n",
    "            included.append(best_feature)\n",
    "            changed = True\n",
    "            if verbose:\n",
    "                print('Add  {:30} with p-value {:.6f}'.format(best_feature, best_pval))\n",
    "        \n",
    "        # Backward step\n",
    "        if len(included) > 0:\n",
    "            model = sm.OLS(y, sm.add_constant(X[included])).fit()\n",
    "            pvalues = model.pvalues.iloc[1:]  # Use all coefs except intercept\n",
    "            if not pvalues.empty:\n",
    "                worst_pval = pvalues.max()  # Null if pvalues is empty\n",
    "                if worst_pval > threshold_out:\n",
    "                    worst_feature = pvalues.idxmax()\n",
    "                    included.remove(worst_feature)\n",
    "                    changed = True\n",
    "                    if verbose:\n",
    "                        print('Drop {:30} with p-value {:.6f}'.format(worst_feature, worst_pval))\n",
    "        \n",
    "        if not changed:\n",
    "            break\n",
    "    \n",
    "    return included"
   ]
  },
  {
   "cell_type": "code",
   "execution_count": 90,
   "metadata": {},
   "outputs": [
    {
     "name": "stdout",
     "output_type": "stream",
     "text": [
      "Add  tempo_emprego                  with p-value 0.000000\n",
      "Add  sexo_F                         with p-value 0.000000\n",
      "Add  sexo_M                         with p-value 0.000000\n",
      "Add  tipo_renda_Empresário          with p-value 0.000000\n",
      "Add  idade                          with p-value 0.000000\n",
      "Add  educacao_Superior completo     with p-value 0.000004\n",
      "Add  qt_pessoas_residencia          with p-value 0.006468\n",
      "Variáveis resultantes:\n",
      "['tempo_emprego', 'sexo_F', 'sexo_M', 'tipo_renda_Empresário', 'idade', 'educacao_Superior completo', 'qt_pessoas_residencia']\n"
     ]
    }
   ],
   "source": [
    "# Supondo que X e y estejam definidos e preparados corretamente\n",
    "resultado = stepwise_selection(X, y)\n",
    "\n",
    "print('Variáveis resultantes:')\n",
    "print(resultado)"
   ]
  },
  {
   "cell_type": "code",
   "execution_count": 91,
   "metadata": {},
   "outputs": [],
   "source": [
    "# Ajustando o Modelo 1\n",
    "model1 = smf.ols('renda ~ C(sexo) + C(posse_de_imovel) + np.log(tempo_emprego)', data=df).fit()\n",
    "\n",
    "# Ajustando o Modelo 2\n",
    "model2 = smf.ols(\"np.log(renda) ~ C(sexo, Treatment(reference='M')) + C(posse_de_veiculo, Treatment(reference=True)) + C(posse_de_imovel, Treatment(reference=True))  + idade + tempo_emprego + qt_pessoas_residencia\", data=df).fit()"
   ]
  },
  {
   "cell_type": "code",
   "execution_count": 92,
   "metadata": {},
   "outputs": [
    {
     "data": {
      "text/html": [
       "<table class=\"simpletable\">\n",
       "<caption>OLS Regression Results</caption>\n",
       "<tr>\n",
       "  <th>Dep. Variable:</th>          <td>renda</td>      <th>  R-squared:         </th>  <td>   0.181</td>  \n",
       "</tr>\n",
       "<tr>\n",
       "  <th>Model:</th>                   <td>OLS</td>       <th>  Adj. R-squared:    </th>  <td>   0.181</td>  \n",
       "</tr>\n",
       "<tr>\n",
       "  <th>Method:</th>             <td>Least Squares</td>  <th>  F-statistic:       </th>  <td>   913.7</td>  \n",
       "</tr>\n",
       "<tr>\n",
       "  <th>Date:</th>             <td>Mon, 26 Aug 2024</td> <th>  Prob (F-statistic):</th>   <td>  0.00</td>   \n",
       "</tr>\n",
       "<tr>\n",
       "  <th>Time:</th>                 <td>14:33:42</td>     <th>  Log-Likelihood:    </th> <td>-1.2939e+05</td>\n",
       "</tr>\n",
       "<tr>\n",
       "  <th>No. Observations:</th>      <td> 12427</td>      <th>  AIC:               </th>  <td>2.588e+05</td> \n",
       "</tr>\n",
       "<tr>\n",
       "  <th>Df Residuals:</th>          <td> 12423</td>      <th>  BIC:               </th>  <td>2.588e+05</td> \n",
       "</tr>\n",
       "<tr>\n",
       "  <th>Df Model:</th>              <td>     3</td>      <th>                     </th>      <td> </td>     \n",
       "</tr>\n",
       "<tr>\n",
       "  <th>Covariance Type:</th>      <td>nonrobust</td>    <th>                     </th>      <td> </td>     \n",
       "</tr>\n",
       "</table>\n",
       "<table class=\"simpletable\">\n",
       "<tr>\n",
       "               <td></td>                 <th>coef</th>     <th>std err</th>      <th>t</th>      <th>P>|t|</th>  <th>[0.025</th>    <th>0.975]</th>  \n",
       "</tr>\n",
       "<tr>\n",
       "  <th>Intercept</th>                  <td>-1031.8820</td> <td>  183.627</td> <td>   -5.619</td> <td> 0.000</td> <td>-1391.820</td> <td> -671.945</td>\n",
       "</tr>\n",
       "<tr>\n",
       "  <th>C(sexo)[T.M]</th>               <td> 5551.7426</td> <td>  150.939</td> <td>   36.781</td> <td> 0.000</td> <td> 5255.878</td> <td> 5847.607</td>\n",
       "</tr>\n",
       "<tr>\n",
       "  <th>C(posse_de_imovel)[T.True]</th> <td>  444.9310</td> <td>  151.797</td> <td>    2.931</td> <td> 0.003</td> <td>  147.384</td> <td>  742.478</td>\n",
       "</tr>\n",
       "<tr>\n",
       "  <th>np.log(tempo_emprego)</th>      <td> 2954.4481</td> <td>   72.447</td> <td>   40.781</td> <td> 0.000</td> <td> 2812.441</td> <td> 3096.455</td>\n",
       "</tr>\n",
       "</table>\n",
       "<table class=\"simpletable\">\n",
       "<tr>\n",
       "  <th>Omnibus:</th>       <td>17867.928</td> <th>  Durbin-Watson:     </th>   <td>   2.026</td>  \n",
       "</tr>\n",
       "<tr>\n",
       "  <th>Prob(Omnibus):</th>  <td> 0.000</td>   <th>  Jarque-Bera (JB):  </th> <td>10069030.831</td>\n",
       "</tr>\n",
       "<tr>\n",
       "  <th>Skew:</th>           <td> 8.415</td>   <th>  Prob(JB):          </th>   <td>    0.00</td>  \n",
       "</tr>\n",
       "<tr>\n",
       "  <th>Kurtosis:</th>       <td>141.430</td>  <th>  Cond. No.          </th>   <td>    6.84</td>  \n",
       "</tr>\n",
       "</table><br/><br/>Notes:<br/>[1] Standard Errors assume that the covariance matrix of the errors is correctly specified."
      ],
      "text/latex": [
       "\\begin{center}\n",
       "\\begin{tabular}{lclc}\n",
       "\\toprule\n",
       "\\textbf{Dep. Variable:}               &      renda       & \\textbf{  R-squared:         } &      0.181    \\\\\n",
       "\\textbf{Model:}                       &       OLS        & \\textbf{  Adj. R-squared:    } &      0.181    \\\\\n",
       "\\textbf{Method:}                      &  Least Squares   & \\textbf{  F-statistic:       } &      913.7    \\\\\n",
       "\\textbf{Date:}                        & Mon, 26 Aug 2024 & \\textbf{  Prob (F-statistic):} &      0.00     \\\\\n",
       "\\textbf{Time:}                        &     14:33:42     & \\textbf{  Log-Likelihood:    } & -1.2939e+05   \\\\\n",
       "\\textbf{No. Observations:}            &       12427      & \\textbf{  AIC:               } &  2.588e+05    \\\\\n",
       "\\textbf{Df Residuals:}                &       12423      & \\textbf{  BIC:               } &  2.588e+05    \\\\\n",
       "\\textbf{Df Model:}                    &           3      & \\textbf{                     } &               \\\\\n",
       "\\textbf{Covariance Type:}             &    nonrobust     & \\textbf{                     } &               \\\\\n",
       "\\bottomrule\n",
       "\\end{tabular}\n",
       "\\begin{tabular}{lcccccc}\n",
       "                                      & \\textbf{coef} & \\textbf{std err} & \\textbf{t} & \\textbf{P$> |$t$|$} & \\textbf{[0.025} & \\textbf{0.975]}  \\\\\n",
       "\\midrule\n",
       "\\textbf{Intercept}                    &   -1031.8820  &      183.627     &    -5.619  &         0.000        &    -1391.820    &     -671.945     \\\\\n",
       "\\textbf{C(sexo)[T.M]}                 &    5551.7426  &      150.939     &    36.781  &         0.000        &     5255.878    &     5847.607     \\\\\n",
       "\\textbf{C(posse\\_de\\_imovel)[T.True]} &     444.9310  &      151.797     &     2.931  &         0.003        &      147.384    &      742.478     \\\\\n",
       "\\textbf{np.log(tempo\\_emprego)}       &    2954.4481  &       72.447     &    40.781  &         0.000        &     2812.441    &     3096.455     \\\\\n",
       "\\bottomrule\n",
       "\\end{tabular}\n",
       "\\begin{tabular}{lclc}\n",
       "\\textbf{Omnibus:}       & 17867.928 & \\textbf{  Durbin-Watson:     } &      2.026    \\\\\n",
       "\\textbf{Prob(Omnibus):} &    0.000  & \\textbf{  Jarque-Bera (JB):  } & 10069030.831  \\\\\n",
       "\\textbf{Skew:}          &    8.415  & \\textbf{  Prob(JB):          } &       0.00    \\\\\n",
       "\\textbf{Kurtosis:}      &  141.430  & \\textbf{  Cond. No.          } &       6.84    \\\\\n",
       "\\bottomrule\n",
       "\\end{tabular}\n",
       "%\\caption{OLS Regression Results}\n",
       "\\end{center}\n",
       "\n",
       "Notes: \\newline\n",
       " [1] Standard Errors assume that the covariance matrix of the errors is correctly specified."
      ],
      "text/plain": [
       "<class 'statsmodels.iolib.summary.Summary'>\n",
       "\"\"\"\n",
       "                            OLS Regression Results                            \n",
       "==============================================================================\n",
       "Dep. Variable:                  renda   R-squared:                       0.181\n",
       "Model:                            OLS   Adj. R-squared:                  0.181\n",
       "Method:                 Least Squares   F-statistic:                     913.7\n",
       "Date:                Mon, 26 Aug 2024   Prob (F-statistic):               0.00\n",
       "Time:                        14:33:42   Log-Likelihood:            -1.2939e+05\n",
       "No. Observations:               12427   AIC:                         2.588e+05\n",
       "Df Residuals:                   12423   BIC:                         2.588e+05\n",
       "Df Model:                           3                                         \n",
       "Covariance Type:            nonrobust                                         \n",
       "==============================================================================================\n",
       "                                 coef    std err          t      P>|t|      [0.025      0.975]\n",
       "----------------------------------------------------------------------------------------------\n",
       "Intercept                  -1031.8820    183.627     -5.619      0.000   -1391.820    -671.945\n",
       "C(sexo)[T.M]                5551.7426    150.939     36.781      0.000    5255.878    5847.607\n",
       "C(posse_de_imovel)[T.True]   444.9310    151.797      2.931      0.003     147.384     742.478\n",
       "np.log(tempo_emprego)       2954.4481     72.447     40.781      0.000    2812.441    3096.455\n",
       "==============================================================================\n",
       "Omnibus:                    17867.928   Durbin-Watson:                   2.026\n",
       "Prob(Omnibus):                  0.000   Jarque-Bera (JB):         10069030.831\n",
       "Skew:                           8.415   Prob(JB):                         0.00\n",
       "Kurtosis:                     141.430   Cond. No.                         6.84\n",
       "==============================================================================\n",
       "\n",
       "Notes:\n",
       "[1] Standard Errors assume that the covariance matrix of the errors is correctly specified.\n",
       "\"\"\""
      ]
     },
     "execution_count": 92,
     "metadata": {},
     "output_type": "execute_result"
    }
   ],
   "source": [
    "model1.summary()"
   ]
  },
  {
   "cell_type": "code",
   "execution_count": 93,
   "metadata": {},
   "outputs": [
    {
     "data": {
      "text/html": [
       "<table class=\"simpletable\">\n",
       "<caption>OLS Regression Results</caption>\n",
       "<tr>\n",
       "  <th>Dep. Variable:</th>      <td>np.log(renda)</td>  <th>  R-squared:         </th> <td>   0.346</td> \n",
       "</tr>\n",
       "<tr>\n",
       "  <th>Model:</th>                   <td>OLS</td>       <th>  Adj. R-squared:    </th> <td>   0.346</td> \n",
       "</tr>\n",
       "<tr>\n",
       "  <th>Method:</th>             <td>Least Squares</td>  <th>  F-statistic:       </th> <td>   1097.</td> \n",
       "</tr>\n",
       "<tr>\n",
       "  <th>Date:</th>             <td>Mon, 26 Aug 2024</td> <th>  Prob (F-statistic):</th>  <td>  0.00</td>  \n",
       "</tr>\n",
       "<tr>\n",
       "  <th>Time:</th>                 <td>14:33:45</td>     <th>  Log-Likelihood:    </th> <td> -13674.</td> \n",
       "</tr>\n",
       "<tr>\n",
       "  <th>No. Observations:</th>      <td> 12427</td>      <th>  AIC:               </th> <td>2.736e+04</td>\n",
       "</tr>\n",
       "<tr>\n",
       "  <th>Df Residuals:</th>          <td> 12420</td>      <th>  BIC:               </th> <td>2.741e+04</td>\n",
       "</tr>\n",
       "<tr>\n",
       "  <th>Df Model:</th>              <td>     6</td>      <th>                     </th>     <td> </td>    \n",
       "</tr>\n",
       "<tr>\n",
       "  <th>Covariance Type:</th>      <td>nonrobust</td>    <th>                     </th>     <td> </td>    \n",
       "</tr>\n",
       "</table>\n",
       "<table class=\"simpletable\">\n",
       "<tr>\n",
       "                             <td></td>                                <th>coef</th>     <th>std err</th>      <th>t</th>      <th>P>|t|</th>  <th>[0.025</th>    <th>0.975]</th>  \n",
       "</tr>\n",
       "<tr>\n",
       "  <th>Intercept</th>                                               <td>    8.1150</td> <td>    0.040</td> <td>  205.375</td> <td> 0.000</td> <td>    8.038</td> <td>    8.192</td>\n",
       "</tr>\n",
       "<tr>\n",
       "  <th>C(sexo, Treatment(reference='M'))[T.F]</th>                  <td>   -0.7681</td> <td>    0.015</td> <td>  -52.652</td> <td> 0.000</td> <td>   -0.797</td> <td>   -0.740</td>\n",
       "</tr>\n",
       "<tr>\n",
       "  <th>C(posse_de_veiculo, Treatment(reference=True))[T.False]</th> <td>   -0.0552</td> <td>    0.014</td> <td>   -3.914</td> <td> 0.000</td> <td>   -0.083</td> <td>   -0.028</td>\n",
       "</tr>\n",
       "<tr>\n",
       "  <th>C(posse_de_imovel, Treatment(reference=True))[T.False]</th>  <td>   -0.0871</td> <td>    0.014</td> <td>   -6.312</td> <td> 0.000</td> <td>   -0.114</td> <td>   -0.060</td>\n",
       "</tr>\n",
       "<tr>\n",
       "  <th>idade</th>                                                   <td>    0.0048</td> <td>    0.001</td> <td>    6.231</td> <td> 0.000</td> <td>    0.003</td> <td>    0.006</td>\n",
       "</tr>\n",
       "<tr>\n",
       "  <th>tempo_emprego</th>                                           <td>    0.0610</td> <td>    0.001</td> <td>   59.126</td> <td> 0.000</td> <td>    0.059</td> <td>    0.063</td>\n",
       "</tr>\n",
       "<tr>\n",
       "  <th>qt_pessoas_residencia</th>                                   <td>    0.0161</td> <td>    0.007</td> <td>    2.228</td> <td> 0.026</td> <td>    0.002</td> <td>    0.030</td>\n",
       "</tr>\n",
       "</table>\n",
       "<table class=\"simpletable\">\n",
       "<tr>\n",
       "  <th>Omnibus:</th>       <td> 1.250</td> <th>  Durbin-Watson:     </th> <td>   2.026</td>\n",
       "</tr>\n",
       "<tr>\n",
       "  <th>Prob(Omnibus):</th> <td> 0.535</td> <th>  Jarque-Bera (JB):  </th> <td>   1.222</td>\n",
       "</tr>\n",
       "<tr>\n",
       "  <th>Skew:</th>          <td> 0.022</td> <th>  Prob(JB):          </th> <td>   0.543</td>\n",
       "</tr>\n",
       "<tr>\n",
       "  <th>Kurtosis:</th>      <td> 3.020</td> <th>  Cond. No.          </th> <td>    261.</td>\n",
       "</tr>\n",
       "</table><br/><br/>Notes:<br/>[1] Standard Errors assume that the covariance matrix of the errors is correctly specified."
      ],
      "text/latex": [
       "\\begin{center}\n",
       "\\begin{tabular}{lclc}\n",
       "\\toprule\n",
       "\\textbf{Dep. Variable:}                                            &  np.log(renda)   & \\textbf{  R-squared:         } &     0.346   \\\\\n",
       "\\textbf{Model:}                                                    &       OLS        & \\textbf{  Adj. R-squared:    } &     0.346   \\\\\n",
       "\\textbf{Method:}                                                   &  Least Squares   & \\textbf{  F-statistic:       } &     1097.   \\\\\n",
       "\\textbf{Date:}                                                     & Mon, 26 Aug 2024 & \\textbf{  Prob (F-statistic):} &     0.00    \\\\\n",
       "\\textbf{Time:}                                                     &     14:33:45     & \\textbf{  Log-Likelihood:    } &   -13674.   \\\\\n",
       "\\textbf{No. Observations:}                                         &       12427      & \\textbf{  AIC:               } & 2.736e+04   \\\\\n",
       "\\textbf{Df Residuals:}                                             &       12420      & \\textbf{  BIC:               } & 2.741e+04   \\\\\n",
       "\\textbf{Df Model:}                                                 &           6      & \\textbf{                     } &             \\\\\n",
       "\\textbf{Covariance Type:}                                          &    nonrobust     & \\textbf{                     } &             \\\\\n",
       "\\bottomrule\n",
       "\\end{tabular}\n",
       "\\begin{tabular}{lcccccc}\n",
       "                                                                   & \\textbf{coef} & \\textbf{std err} & \\textbf{t} & \\textbf{P$> |$t$|$} & \\textbf{[0.025} & \\textbf{0.975]}  \\\\\n",
       "\\midrule\n",
       "\\textbf{Intercept}                                                 &       8.1150  &        0.040     &   205.375  &         0.000        &        8.038    &        8.192     \\\\\n",
       "\\textbf{C(sexo, Treatment(reference='M'))[T.F]}                    &      -0.7681  &        0.015     &   -52.652  &         0.000        &       -0.797    &       -0.740     \\\\\n",
       "\\textbf{C(posse\\_de\\_veiculo, Treatment(reference=True))[T.False]} &      -0.0552  &        0.014     &    -3.914  &         0.000        &       -0.083    &       -0.028     \\\\\n",
       "\\textbf{C(posse\\_de\\_imovel, Treatment(reference=True))[T.False]}  &      -0.0871  &        0.014     &    -6.312  &         0.000        &       -0.114    &       -0.060     \\\\\n",
       "\\textbf{idade}                                                     &       0.0048  &        0.001     &     6.231  &         0.000        &        0.003    &        0.006     \\\\\n",
       "\\textbf{tempo\\_emprego}                                            &       0.0610  &        0.001     &    59.126  &         0.000        &        0.059    &        0.063     \\\\\n",
       "\\textbf{qt\\_pessoas\\_residencia}                                   &       0.0161  &        0.007     &     2.228  &         0.026        &        0.002    &        0.030     \\\\\n",
       "\\bottomrule\n",
       "\\end{tabular}\n",
       "\\begin{tabular}{lclc}\n",
       "\\textbf{Omnibus:}       &  1.250 & \\textbf{  Durbin-Watson:     } &    2.026  \\\\\n",
       "\\textbf{Prob(Omnibus):} &  0.535 & \\textbf{  Jarque-Bera (JB):  } &    1.222  \\\\\n",
       "\\textbf{Skew:}          &  0.022 & \\textbf{  Prob(JB):          } &    0.543  \\\\\n",
       "\\textbf{Kurtosis:}      &  3.020 & \\textbf{  Cond. No.          } &     261.  \\\\\n",
       "\\bottomrule\n",
       "\\end{tabular}\n",
       "%\\caption{OLS Regression Results}\n",
       "\\end{center}\n",
       "\n",
       "Notes: \\newline\n",
       " [1] Standard Errors assume that the covariance matrix of the errors is correctly specified."
      ],
      "text/plain": [
       "<class 'statsmodels.iolib.summary.Summary'>\n",
       "\"\"\"\n",
       "                            OLS Regression Results                            \n",
       "==============================================================================\n",
       "Dep. Variable:          np.log(renda)   R-squared:                       0.346\n",
       "Model:                            OLS   Adj. R-squared:                  0.346\n",
       "Method:                 Least Squares   F-statistic:                     1097.\n",
       "Date:                Mon, 26 Aug 2024   Prob (F-statistic):               0.00\n",
       "Time:                        14:33:45   Log-Likelihood:                -13674.\n",
       "No. Observations:               12427   AIC:                         2.736e+04\n",
       "Df Residuals:                   12420   BIC:                         2.741e+04\n",
       "Df Model:                           6                                         \n",
       "Covariance Type:            nonrobust                                         \n",
       "===========================================================================================================================\n",
       "                                                              coef    std err          t      P>|t|      [0.025      0.975]\n",
       "---------------------------------------------------------------------------------------------------------------------------\n",
       "Intercept                                                   8.1150      0.040    205.375      0.000       8.038       8.192\n",
       "C(sexo, Treatment(reference='M'))[T.F]                     -0.7681      0.015    -52.652      0.000      -0.797      -0.740\n",
       "C(posse_de_veiculo, Treatment(reference=True))[T.False]    -0.0552      0.014     -3.914      0.000      -0.083      -0.028\n",
       "C(posse_de_imovel, Treatment(reference=True))[T.False]     -0.0871      0.014     -6.312      0.000      -0.114      -0.060\n",
       "idade                                                       0.0048      0.001      6.231      0.000       0.003       0.006\n",
       "tempo_emprego                                               0.0610      0.001     59.126      0.000       0.059       0.063\n",
       "qt_pessoas_residencia                                       0.0161      0.007      2.228      0.026       0.002       0.030\n",
       "==============================================================================\n",
       "Omnibus:                        1.250   Durbin-Watson:                   2.026\n",
       "Prob(Omnibus):                  0.535   Jarque-Bera (JB):                1.222\n",
       "Skew:                           0.022   Prob(JB):                        0.543\n",
       "Kurtosis:                       3.020   Cond. No.                         261.\n",
       "==============================================================================\n",
       "\n",
       "Notes:\n",
       "[1] Standard Errors assume that the covariance matrix of the errors is correctly specified.\n",
       "\"\"\""
      ]
     },
     "execution_count": 93,
     "metadata": {},
     "output_type": "execute_result"
    }
   ],
   "source": [
    "model2.summary()"
   ]
  },
  {
   "cell_type": "code",
   "execution_count": 94,
   "metadata": {},
   "outputs": [
    {
     "name": "stdout",
     "output_type": "stream",
     "text": [
      "Modelo 1: R² ajustado = 0.18056293420046932 AIC = 258785.31252785484 BIC = 258815.02303507007\n",
      "Modelo 2: R² ajustado = 0.34606436343156444 AIC = 27361.963067276585 BIC = 27413.956454903226\n"
     ]
    }
   ],
   "source": [
    "print(\"Modelo 1: R² ajustado =\", model1.rsquared_adj, \"AIC =\", model1.aic, \"BIC =\", model1.bic)\n",
    "print(\"Modelo 2: R² ajustado =\", model2.rsquared_adj, \"AIC =\", model2.aic, \"BIC =\", model2.bic)"
   ]
  },
  {
   "cell_type": "code",
   "execution_count": 95,
   "metadata": {},
   "outputs": [],
   "source": [
    "#O modelo 2 é melhor, já que seu R² é superior e seu AIC e BIC é inferior ao modelo 1."
   ]
  },
  {
   "cell_type": "code",
   "execution_count": 96,
   "metadata": {},
   "outputs": [
    {
     "name": "stdout",
     "output_type": "stream",
     "text": [
      "R2 Ridge: 0.3673924808784039, R2 Lasso: 0.35620808655306624\n"
     ]
    }
   ],
   "source": [
    "# Criar matrizes de design com patsy, incluindo interações\n",
    "formula = \"\"\"\n",
    "np.log(renda) ~ C(sexo, Treatment(0)) * idade + \n",
    "C(posse_de_veiculo, Treatment(0)) + \n",
    "C(posse_de_imovel, Treatment(1)) + \n",
    "qtd_filhos + \n",
    "C(tipo_renda, Treatment(0)) + \n",
    "C(educacao, Treatment(2)) + \n",
    "C(estado_civil, Treatment(0)) + \n",
    "C(tipo_residencia, Treatment(1)) + \n",
    "idade + \n",
    "tempo_emprego + \n",
    "qt_pessoas_residencia\n",
    "\"\"\"\n",
    "\n",
    "y, X = dmatrices(formula, data=df, return_type=\"dataframe\")\n",
    "\n",
    "# Dividir em treino e teste\n",
    "X_train, X_test, y_train, y_test = train_test_split(X, y, test_size=0.25, random_state=42)\n",
    "\n",
    "# Ajustar modelos Ridge e Lasso\n",
    "model_ridge = Ridge(alpha=1.0)\n",
    "model_ridge.fit(X_train, y_train)\n",
    "y_pred_ridge = model_ridge.predict(X_test)\n",
    "r2_ridge = r2_score(y_test, y_pred_ridge)\n",
    "\n",
    "model_lasso = Lasso(alpha=0.1)\n",
    "model_lasso.fit(X_train, y_train)\n",
    "y_pred_lasso = model_lasso.predict(X_test)\n",
    "r2_lasso = r2_score(y_test, y_pred_lasso)\n",
    "\n",
    "print(f\"R2 Ridge: {r2_ridge}, R2 Lasso: {r2_lasso}\")"
   ]
  },
  {
   "cell_type": "code",
   "execution_count": 99,
   "metadata": {},
   "outputs": [
    {
     "name": "stdout",
     "output_type": "stream",
     "text": [
      "R2 Decision Tree: 0.28545285590565805\n"
     ]
    }
   ],
   "source": [
    "# Dividir em treino e teste\n",
    "X_train, X_test, y_train, y_test = train_test_split(X, y, test_size=0.25, random_state=42)\n",
    "\n",
    "# Ajustar a árvore de regressão\n",
    "tree = DecisionTreeRegressor(random_state=42)\n",
    "tree.fit(X_train, y_train)\n",
    "\n",
    "# Fazer predições\n",
    "y_pred_tree = tree.predict(X_test)\n",
    "\n",
    "# Calcular o R2\n",
    "r2_tree = r2_score(y_test, y_pred_tree)\n",
    "print(f\"R2 Decision Tree: {r2_tree}\")"
   ]
  },
  {
   "cell_type": "code",
   "execution_count": null,
   "metadata": {},
   "outputs": [],
   "source": []
  }
 ],
 "metadata": {
  "kernelspec": {
   "display_name": "Python 3 (ipykernel)",
   "language": "python",
   "name": "python3"
  },
  "language_info": {
   "codemirror_mode": {
    "name": "ipython",
    "version": 3
   },
   "file_extension": ".py",
   "mimetype": "text/x-python",
   "name": "python",
   "nbconvert_exporter": "python",
   "pygments_lexer": "ipython3",
   "version": "3.11.7"
  }
 },
 "nbformat": 4,
 "nbformat_minor": 4
}
