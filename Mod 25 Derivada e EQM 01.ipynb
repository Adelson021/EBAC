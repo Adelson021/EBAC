{
 "cells": [
  {
   "cell_type": "markdown",
   "metadata": {},
   "source": [
    "# Cálculo - Tarefa 01\n",
    "\n",
    "1. Marque quais desses métodos/algoritmos muito populares em ciência de dados são baseados no uso de derivada:\n",
    "\n",
    "    1. Método Mínimos Quadrados\n",
    "    2. Gradiente descendente\n",
    "    3. Newton Raphson\n",
    "    4. CART (Árvore de decisão)"
   ]
  },
  {
   "cell_type": "markdown",
   "metadata": {},
   "source": [
    "<span style=\"color: red;\">\n",
    "## Os métodos/algoritmos baseados no uso de derivadas são:\n",
    "\n",
    "**Método Mínimos Quadrados: Sim**\n",
    "\n",
    "Este método utiliza derivadas para encontrar os parâmetros que minimizam a soma dos quadrados dos resíduos.  \n",
    "\n",
    "**Gradiente Descendente: Sim**\n",
    "\n",
    "O gradiente descendente é, por definição, um método que utiliza as derivadas (o gradiente) para ajustar os parâmetros na direção de menor declive da função de custo.  \n",
    "**Newton-Raphson: Sim**\n",
    "\n",
    "Este método utiliza tanto a derivada quanto a segunda derivada (hessiana) para encontrar raízes ou otimizar funções.  \n",
    "\n",
    "**CART (Árvore de Decisão): Não**\n",
    "\n",
    "O algoritmo CART constrói árvores de decisão com base em critérios como Gini ou entropia, que não envolvem o cálculo de derivadas.</span>\n",
    "    "
   ]
  },
  {
   "cell_type": "markdown",
   "metadata": {},
   "source": [
    "2. Dada uma base de dados com uma variável resposta $y$ e um conjunto de variáveis explicativas. Considere uma estrutura de um modelo de regressão. Explique com suas palavras por que não é possível obter parâmetros que forneçam um erro quadrático médio (EQM) menor que o obtido com estimadores de mínimos quadrados."
   ]
  },
  {
   "cell_type": "markdown",
   "metadata": {},
   "source": [
    "<span style=\"color: red;\">\n",
    "A razão pela qual não é possível obter parâmetros que forneçam um Erro Quadrático Médio (EQM) menor do que o obtido com os estimadores de Mínimos Quadrados (MQ) está relacionada à forma como os estimadores são definidos e às propriedades estatísticas que eles possuem.\n",
    "\n",
    "## Justificativa:\n",
    "**Definição dos Mínimos Quadrados:**\n",
    "\n",
    "O método dos Mínimos Quadrados é projetado especificamente para minimizar a soma dos quadrados dos resíduos, ou seja, a diferença entre os valores observados da variável resposta \n",
    "𝑦\n",
    "y e os valores preditos pelo modelo. Isso implica que, dentro do conjunto de modelos lineares considerados, os estimadores MQ produzem o menor EQM possível. \n",
    "\n",
    "**Propriedades dos Estimadores MQ:**  \n",
    "Os estimadores de Mínimos Quadrados são não viesados, o que significa que, em média, eles fornecem os valores corretos dos parâmetros populacionais.\n",
    "Eles também são ótimos no sentido de variância mínima (sob o Teorema de Gauss-Markov). Isso significa que, entre todos os estimadores lineares não viesados, os estimadores MQ têm a menor variância.  \n",
    "\n",
    "**Relação com o EQM:**  \n",
    "O EQM é composto por duas partes: o viés quadrado e a variância. No caso dos estimadores MQ, como eles são não viesados, a única contribuição para o EQM vem da variância.\n",
    "Qualquer tentativa de ajustar os parâmetros para reduzir ainda mais o EQM acabará introduzindo viés ou aumentando a variância, o que resultará em um EQM maior, não menor.   \n",
    "\n",
    "**Restrições do Modelo:**  \n",
    "No contexto de um modelo de regressão linear, o método dos Mínimos Quadrados fornece a solução exata para minimizar o EQM dentro das suposições do modelo. Portanto, é matematicamente impossível obter um EQM menor usando outro método que respeite as mesmas suposições.  \n",
    "\n",
    "**Conclusão:**  \n",
    "Os estimadores de Mínimos Quadrados são ótimos no contexto de regressão linear clássica porque minimizam diretamente o erro quadrático. Isso significa que qualquer outro método que tente melhorar o EQM no mesmo cenário acabará violando as propriedades estatísticas ou as restrições do modelo, o que torna o EQM resultante maior. </SPAN>"
   ]
  },
  {
   "cell_type": "code",
   "execution_count": null,
   "metadata": {},
   "outputs": [],
   "source": []
  }
 ],
 "metadata": {
  "kernelspec": {
   "display_name": "Python 3 (ipykernel)",
   "language": "python",
   "name": "python3"
  },
  "language_info": {
   "codemirror_mode": {
    "name": "ipython",
    "version": 3
   },
   "file_extension": ".py",
   "mimetype": "text/x-python",
   "name": "python",
   "nbconvert_exporter": "python",
   "pygments_lexer": "ipython3",
   "version": "3.11.7"
  },
  "toc": {
   "base_numbering": 1,
   "nav_menu": {},
   "number_sections": true,
   "sideBar": true,
   "skip_h1_title": true,
   "title_cell": "Índice",
   "title_sidebar": "Conteúdo",
   "toc_cell": false,
   "toc_position": {},
   "toc_section_display": true,
   "toc_window_display": false
  },
  "varInspector": {
   "cols": {
    "lenName": 16,
    "lenType": 16,
    "lenVar": 40
   },
   "kernels_config": {
    "python": {
     "delete_cmd_postfix": "",
     "delete_cmd_prefix": "del ",
     "library": "var_list.py",
     "varRefreshCmd": "print(var_dic_list())"
    },
    "r": {
     "delete_cmd_postfix": ") ",
     "delete_cmd_prefix": "rm(",
     "library": "var_list.r",
     "varRefreshCmd": "cat(var_dic_list()) "
    }
   },
   "types_to_exclude": [
    "module",
    "function",
    "builtin_function_or_method",
    "instance",
    "_Feature"
   ],
   "window_display": false
  }
 },
 "nbformat": 4,
 "nbformat_minor": 4
}
